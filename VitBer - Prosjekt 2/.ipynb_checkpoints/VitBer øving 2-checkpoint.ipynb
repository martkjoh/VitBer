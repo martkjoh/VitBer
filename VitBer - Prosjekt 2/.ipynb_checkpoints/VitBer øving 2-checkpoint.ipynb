{
 "cells": [
  {
   "cell_type": "code",
   "execution_count": null,
   "metadata": {},
   "outputs": [],
   "source": []
  },
  {
   "cell_type": "markdown",
   "metadata": {},
   "source": [
    "# Prosjekt 2 VitBer\n",
    "Gruppe 49: Martin Johnsrud, Hans Giil, Eirik Høydalsvik"
   ]
  },
  {
   "cell_type": "code",
   "execution_count": null,
   "metadata": {},
   "outputs": [],
   "source": [
    "%%javascript\n",
    "MathJax.Hub.Config({\n",
    "  TeX: { equationNumbers: { autoNumber: \"AMS\" } }\n",
    "});"
   ]
  },
  {
   "cell_type": "raw",
   "metadata": {},
   "source": [
    "### Teori\n",
    "(Her er alltid $j$ indeks for $x$, mens $k$ er ineks for energier)\n",
    "\n",
    "Vi skal lage en algoritme som tar i et potensialet $V(x)$, hvor vi antatr $V(x) = \\infty, x \\in [-\\infty, 0> \\cup <L, \\infty]$, mens det kan ha en virkårlig form i intervallet $I = [0, L>$. $I$ Diskretiseres opp i $n$ delintervaller, $\\{I_j\\}_{j = 1} ^ {n}$, med lengder på $\\Delta x = L / (n + 1)$. Vi diskretiserer derreter potensialet ved å sette $V_j = V(\\Delta x \\cdot j), \\, j = 1, 2, ... n$ og grensebetingelsene $V_0 = V_{n+1} = \\infty$, slik at vi har en vektor ${\\vec V} = [V_1, V_2, ... V_{n + 1}]$. Den tidsuavhengige Shrödingerligningen i 1D, TUSL, er gitt ved \n",
    "\n",
    "$$ \\hat H \\psi(x) =  \\Big( \\frac{-\\hbar^2}{2m} \\frac{\\partial^2}{\\partial x^2} + \\hat V\\Big) \\psi(x) = E \\psi(x) $$\n",
    "\n",
    "Vi diskretiserer $\\psi(x)$ på samme måten, og lar $\\psi_j = \\psi(\\Delta x \\cdot j),\\, \\psi_0 = \\psi_{n+1} = 0$ som gir vektoren $\\vec \\psi$. Hamiltonoperatoren tilnærmes med matrisen $\\mathbb{H} = [H_{j, k}]$, som er tri-diagonal, slik at\n",
    "\n",
    "$$\n",
    "\\mathbb{H}=\n",
    "\\begin{pmatrix}\n",
    "    H_{1, 1} & H_{1, 2} & 0        & 0          & \\dots      & 0            \\\\[1mm]\n",
    "    H_{2, 1} & H_{2, 2} & H_{2, 3} & 0          & \\dots      & \\vdots       \\\\[1mm]\n",
    "    0        & H_{3, 2} & \\ddots   & \\ddots     & 0          & 0            \\\\[1mm]\n",
    "    0        & 0        & \\ddots   & \\ddots     & H_{n-1, n} & 0            \\\\[1mm]\n",
    "    \\vdots   & \\vdots   & 0        & H_{n, n-1} & H_{n, n}   & H_{n, n+1}   \\\\[1mm]\n",
    "    0        & \\dots    & 0        & 0          & H_{n+1, n} & H_{n+1, n+1} \\\\[1mm]\n",
    " \\end{pmatrix}\n",
    "$$\n",
    "\n",
    "hvor $H_{j, j} = \\frac{\\hbar^2}{m(\\Delta x)^2} + V_j$, og $H_{j, j\\pm 1} = \\frac{-\\hbar^2}{2m(\\Delta x)^2}$. TUSL kan da aproskimeres som et egenverdiproblem,\n",
    "\n",
    "$$ \\mathbb{H} \\vec \\psi_k = E_k \\vec \\psi_k$$\n",
    "\n",
    "Dette gir $n$ forskjellige egenverdier $E_j$, med tilhørende egenvektorer $\\vec \\psi_k = \\psi_{j, k}$, hvor den  som er en aproksimasjon av egenfunksjonen til den . Derreter kan vi tidsutvikle en vilkårilg starttilstand $\\Psi (x, 0)$. Denne starttilstanden aproksimeres som en superposisjonen av egenvektorene, \n",
    "\n",
    "$$\\Psi_j = \\sum_{k = 1}^{n} c_{k} \\psi_{j, k} \\exp(-i E_k t / \\hbar),$$\n",
    "\n",
    "eller med matrisenotasjon $\\psi = [\\psi_{j, k}], \\, \\vec c = [c_1, c_2, ... c_{n+1}]$ blir det $\\vec \\Psi(t) = \\psi (\\vec c \\cdot \\exp(i t / \\hbar \\vec E)) $. $\\vec c$ finnes ved $c_j = \\sum_{j = 1}^{n + 1} \\psi_{j, k} \\Psi_j$, eller $\\vec c = \\vec \\Psi^T \\psi$ "
   ]
  },
  {
   "cell_type": "markdown",
   "metadata": {},
   "source": [
    "### Dimesjonsløshet\n",
    "\n",
    "Sånn Shcrödingerlingingen står nå, vår man veldig små tall i bergeningene. Dette kan føre til flyttallfeil. Vi innfører derfor de dimesjonsløse størrelsene $ q = x / \\omega $, $ \\epsilon = E / (\\hbar^2 / 2m\\omega^2) $ og $ \\hat \\nu = \\hat V / (\\hbar^2 / 2m\\omega^2) $, hvor $\\omega$ er den karikteristiske størrelsen bredden til brønnen. Hele modellen får dermed en lengde $L^* = L / \\omega$. Siden\n",
    "\n",
    "$$ \\frac{\\partial^2}{\\partial q^2} \\psi(q) = \\Big( \\frac{\\partial x}{\\partial q} \\frac{\\partial}{\\partial x} \\Big)^2 \\psi(x)= \\omega^2 \\frac{\\partial^2}{\\partial x^2} \\psi(x), $$\n",
    "\n",
    "kan vi ved å multiplisere med $2m\\omega^2 / \\hbar^2 $ på begge sider av Schrödingerligningen skrive den om til\n",
    "\n",
    "\\begin{equation}\n",
    "    \\label{TUSL}\n",
    "    \\Big(\\hat \\nu - \\frac{\\partial^2}{\\partial q^2} \\Big) \\psi = \\epsilon \\psi\n",
    "\\end{equation}\n",
    "\n",
    "Dette gjør at de nye elementene i $ \\mathbb{H} $ matrisen blir $ H_{j, j} = 2 / (\\Delta q)^2 + \\hat \\nu$ og $ H_{j, j \\pm 1} = - 1 / (\\Delta q)^2$, hvor $\\Delta q = L^* / (n + 1)$."
   ]
  },
  {
   "cell_type": "markdown",
   "metadata": {},
   "source": [
    "**Notasjon**\n",
    "\n",
    "$L^* =$ `LStar`  \n",
    "$\\Delta q$ = `deltaq`  \n",
    "$n$ = `n`   \n",
    "$\\nu(q) =$ `vKont(q)`  \n",
    "$\\vec \\nu$ = `v`  \n",
    "$\\epsilon_k =$ `eps[k]`  \n",
    "$\\psi = $ `psi[j][k]`    \n",
    "$\\vec \\psi_k =$ `psi[:, k]`  \n",
    "$\\Psi(x, 0) = $ `f(x)`  \n",
    "$\\vec \\Psi(t) = $ `Psi[j](t)`  \n",
    "$\\mathbb{H} = $ `H[j][k]`  "
   ]
  },
  {
   "cell_type": "markdown",
   "metadata": {},
   "source": [
    "Løser (1) numerisk, som beskrevet i teorien. Returnerer $\\epsilon$ og $\\psi$."
   ]
  },
  {
   "cell_type": "code",
   "execution_count": null,
   "metadata": {},
   "outputs": [],
   "source": [
    "import matplotlib as mpl\n",
    "import matplotlib.pyplot as plt\n",
    "import scipy.linalg as la\n",
    "import numpy as np\n",
    "from numpy import pi\n",
    "\n",
    "def solveTUSL(v, LStar):\n",
    "    \n",
    "    # Hjj are diagonal values, HOD are of the diagonal\n",
    "    deltaq = LStar / (len(v) + 1)\n",
    "    Hjj = 2 / deltaq**2 * np.ones(len(v)) + v\n",
    "    HOD = -1 / deltaq**2 * np.ones(len(v) - 1)\n",
    "    return la.eigh_tridiagonal(Hjj, HOD)"
   ]
  },
  {
   "cell_type": "markdown",
   "metadata": {},
   "source": [
    "Lager en krystall med `Nw` brønner med dybde `v0` (anntas negativ). returnerer $\\epsilon,\\, \\psi,\\, \\nu,\\, n$  og $L$. `L` blir beregnet slik at brønnene får bredde `wL` meter."
   ]
  },
  {
   "cell_type": "code",
   "execution_count": null,
   "metadata": {},
   "outputs": [],
   "source": [
    "def makeChrystal(Nw, v0):\n",
    "    n = 2000 # Oppløsning\n",
    "    # Størrelsene her er kun riktige i forhold til hverandre, enhetene stemmer\n",
    "    # ikke overens med noe utenfor denne funksjonen\n",
    "    w = 10   # Bredde mellom brønner som anndel av Length\n",
    "    b = 3    # Avstand mellom brønner\n",
    "    B = 10   # Bredde på sidene, i forhold til w\n",
    "    Length = 2 * B * w + Nw * w  # Lengde av hele modellen\n",
    "    if Nw > 1:\n",
    "        Length += (Nw - 1) * b\n",
    "\n",
    "    v = np.zeros(n * B * w // Length)\n",
    "    if Nw:\n",
    "        v = np.concatenate((v, v0 * np.ones(n * w // Length)))    \n",
    "    for i in range(Nw - 1):\n",
    "        v = np.concatenate((v, np.zeros(n * b // Length), v0 * np.ones(n * w // Length)))\n",
    "    v = np.concatenate((v, np.zeros(n * B * w // Length) // Length))\n",
    "\n",
    "    n = len(v)   # Forsikrer at v og x har samme lengde\n",
    "    LStar = Length / w\n",
    "    q = np.linspace(0, LStar, n)\n",
    "    eps, psi = solveTUSL(v, LStar)\n",
    "    return eps, psi, v, q"
   ]
  },
  {
   "cell_type": "markdown",
   "metadata": {},
   "source": [
    "Plotter potensialbrønnen, `l` energiegenverdier ($\\epsilon_k$) og de tilhørende egenvektorene $\\vec \\psi_k$. Venstre y-akse angir verider for $\\epsilon$, mens høyre gir verdier for potensialbrønnen $\\nu$. "
   ]
  },
  {
   "cell_type": "code",
   "execution_count": null,
   "metadata": {},
   "outputs": [],
   "source": [
    "def plotEigenfunc(eps, psi, v, q, l,  epsRange=(0, 0), legend=True, showWave=True):\n",
    "    \n",
    "    font = {'family' : 'serif',\n",
    "        'weight' : 'normal',\n",
    "        'size'   : 25}\n",
    "    plt.rcParams['mathtext.fontset'] = 'dejavuserif'\n",
    "    mpl.rc('font', **font)\n",
    "    \n",
    "    fig, ax1 = plt.subplots(1, 1, figsize=(20, 10))\n",
    "    \n",
    "    inf = 1e10  # Alle vet at uendelig er ca 10 milliarder\n",
    "    v = np.concatenate(([inf], v, [inf]))\n",
    "    q = np.concatenate(([0], q, [q[-1] * (1 + 1 / len(q))]))\n",
    "    \n",
    "    # Inneholder Line2D elementer som viser legend hvordan linja ser ut\n",
    "    legendElement = [0] * (l + 1)\n",
    "    \n",
    "    ax1.set_xlabel(\"$q$\", fontsize=50)\n",
    "    ax1.set_ylabel(\"$\\epsilon $\", fontsize=50)\n",
    "    labels =  [0] * (l + 1)\n",
    "    labels[0] = \"$ \\\\nu (q)$\"\n",
    "    legendElement[0], = ax1.plot(q, v, color=\"Black\")\n",
    "    ax1.set_ylabel(\"$\\\\nu$\", fontsize=50)\n",
    "\n",
    "    scalePsi = 0\n",
    "    if showWave: scalePsi = (epsRange[1] - epsRange[0]) / (5 * np.max(psi))\n",
    "\n",
    "    for i in range(l):\n",
    "        legendElement[1 + i], = ax1.plot(q[1: -1], psi[:, i] * scalePsi + eps[i] * np.ones_like(q[1: -1]))\n",
    "        ax1.plot(q, eps[i] * np.ones_like(q), \"--\",  color= legendElement[1 + i].get_color())\n",
    "        labels[1 + i] = \"$\\epsilon_\" + str(i + 1) + \"$\"\n",
    "    \n",
    "    ax1.set_ylim(epsRange)\n",
    "    ax1.set_ylim(epsRange)\n",
    "\n",
    "    if legend:\n",
    "        ax1.legend(legendElement[:][:l + 1], labels[:l + 1], fontsize=20)\n",
    "    \n",
    "    plt.show()"
   ]
  },
  {
   "cell_type": "markdown",
   "metadata": {},
   "source": [
    "Konverterer fra den enhetsløse variablen $\\epsilon$ til $E$, og gir verdier i elektronvolt eller joule."
   ]
  },
  {
   "cell_type": "code",
   "execution_count": null,
   "metadata": {},
   "outputs": [],
   "source": [
    "def EJ(eps):\n",
    "    return eps * (1.0545e-34)**2 / (9.11e-31 * 1e-10**2)\n",
    "\n",
    "def EeV(eps):\n",
    "    return eps * (1.0545e-34)**2 /  (1.6e-19 * 9.11e-31 * 1e-10**2)"
   ]
  },
  {
   "cell_type": "markdown",
   "metadata": {},
   "source": [
    "## Oppgave 1: Partikkel i boks"
   ]
  },
  {
   "cell_type": "code",
   "execution_count": null,
   "metadata": {},
   "outputs": [],
   "source": [
    "eps1, psi1, v1, q1 = makeChrystal(0, 0)\n",
    "\n",
    "l1 = 3\n",
    "print(eps1[0])\n",
    "plotEigenfunc(eps1, psi1, v1, q1, l1, (-eps1[0], eps1[l1 - 1] * 1.4))"
   ]
  },
  {
   "cell_type": "markdown",
   "metadata": {},
   "source": [
    "### Energiegenverdier\n",
    "\n",
    "Den analytiske løsningen for energien til en partikkel i boks er \n",
    "\n",
    "$$ \\epsilon_k = \\frac{2m\\omega^2}{\\hbar^2} E_k = \\Big(\\frac{k \\pi}{L^*}\\Big)^2. $$\n",
    "\n",
    "Under printes både numeriske og analytisk beregnet dimensjonsløs energi, og man kan tydlig se at de stemmer godt overens."
   ]
  },
  {
   "cell_type": "code",
   "execution_count": null,
   "metadata": {},
   "outputs": [],
   "source": [
    "def epsExact(k, LStar):\n",
    "    return (k * np.pi / LStar)**2\n",
    "\n",
    "precision = 6\n",
    "tableWidth = 15\n",
    "\n",
    "print(\"Energies:\")\n",
    "print(\"Numerisk:\".ljust(tableWidth), \"Analytisk:\".ljust(tableWidth), \"Relativ feil:\".ljust(tableWidth))\n",
    "\n",
    "for i in range(l1):\n",
    "    print((\"{:.{prec}e}\").format(eps1[i], prec=precision).ljust(tableWidth),\\\n",
    "          (\"{:.{prec}e}\").format(epsExact(i + 1, q1[-1]), prec=precision).ljust(tableWidth),\\\n",
    "          (\"{:.{prec}e}\").format((epsExact(i + 1, q1[-1]) - eps1[i]) / epsExact(i + 1, q1[-1]), prec=precision).ljust(tableWidth))"
   ]
  },
  {
   "cell_type": "markdown",
   "metadata": {},
   "source": [
    "### Ortonormalitet og fullstendig sett\n",
    "\n",
    "Vi kan se her at opp til en feil av størrelsesorden $10^{-10}$ er vektorene $ \\vec \\psi_k $ ortonormale, altså er $\\vec \\psi_i \\cdot \\vec \\psi_j = \\delta_{i, j}$, eller $\\psi_{j, k} \\cdot \\psi_{j, k}^T = \\mathbb{I}$, identitetsmatrisen, som sjekkes i koden under. Dette viser også at $\\psi_{j, k}$ er inverterbar, som betyr at den er en basis til $ \\mathbb{R}^n $, og dermed også et fullstendig sett."
   ]
  },
  {
   "cell_type": "code",
   "execution_count": null,
   "metadata": {},
   "outputs": [],
   "source": [
    "np.set_printoptions(precision=2)\n",
    "\n",
    "p = psi1 @ psi1.T\n",
    "print(p)\n",
    "\n",
    "# Sjekker om diagonalen er nær 1, og resten nær 0\n",
    "tol = 10e-10\n",
    "i = 0\n",
    "while(i < len(p[0]) and p[i, i] - 1 < tol and np.sum(abs(p[i,:i:])) < tol):\n",
    "    i += 1\n",
    "    \n",
    "print(\"\\nFeil innenfor toleransen: \", i == len(p))"
   ]
  },
  {
   "cell_type": "markdown",
   "metadata": {},
   "source": [
    "## Oppgave 2: Atomer"
   ]
  },
  {
   "cell_type": "code",
   "execution_count": null,
   "metadata": {},
   "outputs": [],
   "source": [
    "v0 = -70\n",
    "eps2, psi2, v2, q2 = makeChrystal(1, v0)\n",
    "\n",
    "l2 = 5\n",
    "plotEigenfunc(eps2, psi2, v2, q2, l2, (eps2[0] * 1.2, -eps2[0] * 0.5))\n",
    "\n",
    "for i in range(l2):\n",
    "    print(eps2[i], q2[-1])"
   ]
  },
  {
   "cell_type": "markdown",
   "metadata": {},
   "source": [
    "## Oppgave 3: Molekyler"
   ]
  },
  {
   "cell_type": "code",
   "execution_count": null,
   "metadata": {},
   "outputs": [],
   "source": [
    "eps3, psi3, v3, q3 = makeChrystal(2, v0)\n",
    "\n",
    "l3 = 7\n",
    "plotEigenfunc(eps3, psi3, v3, q3, l3, (eps3[0] * 1.2, -eps3[0]*0.5))\n",
    "\n",
    "for i in range(l3):\n",
    "    print(eps3[i])"
   ]
  },
  {
   "cell_type": "markdown",
   "metadata": {},
   "source": [
    "## Oppgave 4: Krystaller"
   ]
  },
  {
   "cell_type": "code",
   "execution_count": null,
   "metadata": {},
   "outputs": [],
   "source": [
    "k = 10\n",
    "eps4, psi4, v4, q4 = makeChrystal(k, -70)\n",
    "\n",
    "l4 = k * 3 + 1\n",
    "plotEigenfunc(eps4, psi4, v4, q4, l4, (eps4[0] * 1.2, -eps4[0]*0.5), legend=False, showWave=False)"
   ]
  },
  {
   "cell_type": "markdown",
   "metadata": {},
   "source": [
    "## Bonus: Tidsutvikling"
   ]
  },
  {
   "cell_type": "code",
   "execution_count": null,
   "metadata": {},
   "outputs": [],
   "source": [
    "from matplotlib.animation import FuncAnimation as anim\n",
    "from IPython.display import HTML\n",
    "import time\n",
    "plt.rcParams.update({'animation.html':'html5', 'savefig.dpi': 50})\n",
    "\n",
    "def f(x):\n",
    "    return np.exp(-(x - 10)**2 + 1j*(x - 10)*40)\n",
    "\n",
    "eps, psi, v, q = makeChrystal(0, 0)\n",
    "c = psi.T @ f(q)\n",
    "Psi = lambda t: psi @ (c * np.exp(-1j*eps*t))\n",
    "\n",
    "fig, ax = plt.subplots(1, figsize=(15, 15))\n",
    "T =- time.time()\n",
    "numFrames = 100\n",
    "def animate(n):\n",
    "    global T\n",
    "    ax.cla()\n",
    "    ax.set_ylim(0, 1)\n",
    "    t = n * 0.008 + 100\n",
    "    l = ax.plot(q, np.abs(Psi(t))**2)\n",
    "    T = T + time.time() \n",
    "    if n == numFrames - 1:\n",
    "        print(T)\n",
    "        print(T / frames)\n",
    "    T = T - time.time()\n",
    "    return l\n",
    "\n",
    "a = anim(fig, animate, frames=numFrames, interval=80)\n",
    "plt.close(fig)\n",
    "HTML(a.to_html5_video())"
   ]
  }
 ],
 "metadata": {
  "kernelspec": {
   "display_name": "Python 3",
   "language": "python",
   "name": "python3"
  },
  "language_info": {
   "codemirror_mode": {
    "name": "ipython",
    "version": 3
   },
   "file_extension": ".py",
   "mimetype": "text/x-python",
   "name": "python",
   "nbconvert_exporter": "python",
   "pygments_lexer": "ipython3",
   "version": "3.6.7"
  }
 },
 "nbformat": 4,
 "nbformat_minor": 2
}
