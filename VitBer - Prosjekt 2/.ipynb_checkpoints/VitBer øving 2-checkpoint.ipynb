{
 "cells": [
  {
   "cell_type": "markdown",
   "metadata": {},
   "source": [
    "# Prosjekt 2 VitBer\n",
    "Martin Johnsrud, Hans Giil, Eirik Høydalsvik"
   ]
  },
  {
   "cell_type": "markdown",
   "metadata": {},
   "source": [
    "### Teori\n",
    "(Her er alltid $j$ indeks for $x$, mens $k$ er ineks for energier)\n",
    "\n",
    "Vi skal lage en algoritme som tar i et potensialet $V(x)$, hvor vi antatr $V(x) = \\infty, x \\in [-\\infty, 0> \\cup <L, \\infty]$, mens det kan ha en virkårlig form i intervallet $I = [0, L>$. $I$ Diskretiseres opp i $n$ delintervaller, $\\{I_j\\}_{j = 1} ^ {n}$, med lengder på $\\Delta x = L / (n + 1)$. Vi diskretiserer derreter potensialet ved å sette $V_j = V(\\Delta x \\cdot j), \\, j = 1, 2, ... n$ og grensebetingelsene $V_0 = V_{n+1} = \\infty$, slik at vi har en vektor ${\\vec V} = [V_1, V_2, ... V_{n + 1}]$. Den tidsuavhengige Shrödingerligningen i 1D, TUSL, er gitt ved \n",
    "\n",
    "$$ \\hat H \\psi(x) =  \\Big( - \\frac{\\hbar}{2m} \\frac{\\partial}{\\partial x} + \\hat V\\Big) \\psi(x) = E \\psi(x) $$\n",
    "\n",
    "Vi diskretiserer $\\psi(x)$ på samme måten, og lar $\\psi_j = \\psi(\\Delta x \\cdot j),\\, \\psi_0 = \\psi_{n+1} = 0$ som gir vektoren $\\vec \\psi$. Hamiltonoperatoren tilnærmes med matrisen $\\mathbb{H} = [H_{j, k}]$, som er tri-diagonal, slik at\n",
    "\n",
    "$$\n",
    "\\mathbb{H}=\n",
    "\\begin{pmatrix}\n",
    "    H_{1, 1} & H_{1, 2} & 0        & 0          & \\dots      & 0            \\\\[1mm]\n",
    "    H_{2, 1} & H_{2, 2} & H_{2, 3} & 0          & \\dots      & \\vdots       \\\\[1mm]\n",
    "    0        & H_{3, 2} & \\ddots   & \\ddots     & 0          & 0            \\\\[1mm]\n",
    "    0        & 0        & \\ddots   & \\ddots     & H_{n-1, n} & 0            \\\\[1mm]\n",
    "    \\vdots   & \\vdots   & 0        & H_{n, n-1} & H_{n, n}   & H_{n, n+1}   \\\\[1mm]\n",
    "    0        & \\dots    & 0        & 0          & H_{n+1, n} & H_{n+1, n+1} \\\\[1mm]\n",
    " \\end{pmatrix}\n",
    "$$\n",
    "\n",
    "hvor $H_{j, j} = \\frac{\\hbar^2}{m\\Delta x} + V_j$, og $H_{j, j\\pm 1} = -\\frac{\\hbar^2}{2m\\Delta x}$. TUSL kan da aproskimeres som et egenverdiproblem,\n",
    "\n",
    "$$ \\mathbb{H} \\vec \\psi_k = E_k \\vec \\psi_k$$\n",
    "\n",
    "Dette gir $n$ forskjellige egenverdier $E_j$, med tilhørende egenvektorer $\\vec \\psi_k = \\psi_{j, k}$, hvor den  som er en aproksimasjon av egenfunksjonen til den . Derreter kan vi tidsutvikle en vilkårilg starttilstand $\\Psi (x, 0)$. Denne starttilstanden aproksimeres som en superposisjonen av egenvektorene, \n",
    "\n",
    "$$\\Psi_j = \\sum_{k = 1}^{n} c_{k} \\psi_{j, k} \\exp(-i E_k t / \\hbar),$$\n",
    "\n",
    "eller med matrisenotasjon $\\psi = [\\psi_{j, k}], \\, \\vec c = [c_1, c_2, ... c_{n+1}]$ blir det $\\vec \\Psi(t) = \\psi (\\vec c \\cdot \\exp(i t / \\hbar \\vec E)) $. $\\vec c$ finnes ved $c_j = \\sum_{j = 1}^{n + 1} \\psi_{j, k} \\Psi_j$, eller $\\vec c = \\vec \\Psi^T \\psi$ \n",
    "\n",
    "**Notasjon**\n",
    "\n",
    "$V(x) =$ `VKont(x)`<br>\n",
    "$\\Delta x$ = `deltaX`<br>\n",
    "$n$ = `n`<br>\n",
    "$\\vec V$ = `V` <br>\n",
    "$\\mathbb{H} = $ `H[j][k]` <br>\n",
    "$\\psi = $ `psi[j][k]` <br>\n",
    "$c = $ `c[k]` <br>\n",
    "$\\Psi(x, 0) = $ `f(x)` <br>\n",
    "$\\vec \\Psi(t) = $ `Psi[j](t)` <br>\n"
   ]
  },
  {
   "cell_type": "code",
   "execution_count": null,
   "metadata": {},
   "outputs": [],
   "source": [
    "import numpy as np\n",
    "import matplotlib.pyplot as plt\n",
    "import scipy.linalg as la\n",
    "\n",
    "# Lengden av intervallet\n",
    "L = 1\n",
    "# antall subintervaller\n",
    "n = 1000\n",
    "# Fjerkonstanten\n",
    "K = 1\n",
    "m = 1\n",
    "hbar = 1\n",
    "deltaX = L / (n + 1)\n",
    "x = np.linspace(0, L, n + 1)\n",
    "indexes = np.linspace(0, n + 1)\n",
    "\n",
    "def getEigenvalues(V, x, n):\n",
    "    # Hjj are diagonal values, HOD are of the diagonal\n",
    "    H = np.zeros((n + 1, n + 1))\n",
    "    Hjj = hbar**2 / (m * deltaX**2)* np.ones(n + 1) + V\n",
    "    HOD= -hbar**2 / (2 * m * deltaX**2) * np.ones(n)\n",
    "    \n",
    "    return la.eigh_tridiagonal(Hjj, HOD)"
   ]
  },
  {
   "cell_type": "markdown",
   "metadata": {},
   "source": [
    "## Partikkel i boks"
   ]
  },
  {
   "cell_type": "code",
   "execution_count": null,
   "metadata": {},
   "outputs": [],
   "source": [
    "V0 = -50\n",
    "\n",
    "V = np.concatenate(( np.ones(n // 2 + 1) * V0, np.zeros(n - (n // 2))))\n",
    "\n",
    "def EExact(j):\n",
    "    return hbar * ((j + 1)*np.pi/L)**2 / (2*m) - V[j]\n",
    "\n",
    "def VExact(x):\n",
    "    return -1 / (x + 1/5)\n",
    "\n",
    "\n",
    "E, phi = getEigenvalues(V, x, n)\n",
    "\n",
    "fig, axs = plt.subplots(1, 2, figsize=(20, 10))\n",
    "\n",
    "axs[0].plot(x, V)\n",
    "print(\"Energies: \")\n",
    "print()\n",
    "for i in range(3):\n",
    "    print(E[i], EExact(i))\n",
    "    axs[1].plot(x, phi[i, :]**2, color=\"blue\")\n"
   ]
  },
  {
   "cell_type": "code",
   "execution_count": null,
   "metadata": {},
   "outputs": [],
   "source": []
  }
 ],
 "metadata": {
  "kernelspec": {
   "display_name": "Python 3",
   "language": "python",
   "name": "python3"
  },
  "language_info": {
   "codemirror_mode": {
    "name": "ipython",
    "version": 3
   },
   "file_extension": ".py",
   "mimetype": "text/x-python",
   "name": "python",
   "nbconvert_exporter": "python",
   "pygments_lexer": "ipython3",
   "version": "3.7.1"
  }
 },
 "nbformat": 4,
 "nbformat_minor": 2
}
