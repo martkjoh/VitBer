{
 "cells": [
  {
   "cell_type": "markdown",
   "metadata": {},
   "source": [
    "# Prosjekt 2 VitBer\n",
    "Gruppe 49: Martin Johnsrud, Hans Giil, Eirik Høydalsvik"
   ]
  },
  {
   "cell_type": "markdown",
   "metadata": {},
   "source": [
    "### Teori\n",
    "(Her er alltid $j$ indeks for $x$, mens $k$ er ineks for energier)\n",
    "\n",
    "Vi skal lage en algoritme som tar i et potensialet $V(x)$, hvor vi antatr $V(x) = \\infty, x \\in [-\\infty, 0> \\cup <L, \\infty]$, mens det kan ha en virkårlig form i intervallet $I = [0, L>$. $I$ Diskretiseres opp i $n$ delintervaller, $\\{I_j\\}_{j = 1} ^ {n}$, med lengder på $\\Delta x = L / (n + 1)$. Vi diskretiserer derreter potensialet ved å sette $V_j = V(\\Delta x \\cdot j), \\, j = 1, 2, ... n$ og grensebetingelsene $V_0 = V_{n+1} = \\infty$, slik at vi har en vektor ${\\vec V} = [V_1, V_2, ... V_{n + 1}]$. Den tidsuavhengige Shrödingerligningen i 1D, TUSL, er gitt ved \n",
    "\n",
    "$$ \\hat H \\psi(x) =  \\Big( \\frac{-\\hbar}{2m} \\frac{\\partial^2}{\\partial x^2} + \\hat V\\Big) \\psi(x) = E \\psi(x) $$\n",
    "\n",
    "Vi diskretiserer $\\psi(x)$ på samme måten, og lar $\\psi_j = \\psi(\\Delta x \\cdot j),\\, \\psi_0 = \\psi_{n+1} = 0$ som gir vektoren $\\vec \\psi$. Hamiltonoperatoren tilnærmes med matrisen $\\mathbb{H} = [H_{j, k}]$, som er tri-diagonal, slik at\n",
    "\n",
    "$$\n",
    "\\mathbb{H}=\n",
    "\\begin{pmatrix}\n",
    "    H_{1, 1} & H_{1, 2} & 0        & 0          & \\dots      & 0            \\\\[1mm]\n",
    "    H_{2, 1} & H_{2, 2} & H_{2, 3} & 0          & \\dots      & \\vdots       \\\\[1mm]\n",
    "    0        & H_{3, 2} & \\ddots   & \\ddots     & 0          & 0            \\\\[1mm]\n",
    "    0        & 0        & \\ddots   & \\ddots     & H_{n-1, n} & 0            \\\\[1mm]\n",
    "    \\vdots   & \\vdots   & 0        & H_{n, n-1} & H_{n, n}   & H_{n, n+1}   \\\\[1mm]\n",
    "    0        & \\dots    & 0        & 0          & H_{n+1, n} & H_{n+1, n+1} \\\\[1mm]\n",
    " \\end{pmatrix}\n",
    "$$\n",
    "\n",
    "hvor $H_{j, j} = \\frac{\\hbar^2}{m(\\Delta x)^2} + V_j$, og $H_{j, j\\pm 1} = \\frac{-\\hbar^2}{2m(\\Delta x)^2}$. TUSL kan da aproskimeres som et egenverdiproblem,\n",
    "\n",
    "$$ \\mathbb{H} \\vec \\psi_k = E_k \\vec \\psi_k$$\n",
    "\n",
    "Dette gir $n$ forskjellige egenverdier $E_j$, med tilhørende egenvektorer $\\vec \\psi_k = \\psi_{j, k}$, hvor den  som er en aproksimasjon av egenfunksjonen til den . Derreter kan vi tidsutvikle en vilkårilg starttilstand $\\Psi (x, 0)$. Denne starttilstanden aproksimeres som en superposisjonen av egenvektorene, \n",
    "\n",
    "$$\\Psi_j = \\sum_{k = 1}^{n} c_{k} \\psi_{j, k} \\exp(-i E_k t / \\hbar),$$\n",
    "\n",
    "eller med matrisenotasjon $\\psi = [\\psi_{j, k}], \\, \\vec c = [c_1, c_2, ... c_{n+1}]$ blir det $\\vec \\Psi(t) = \\psi (\\vec c \\cdot \\exp(i t / \\hbar \\vec E)) $. $\\vec c$ finnes ved $c_j = \\sum_{j = 1}^{n + 1} \\psi_{j, k} \\Psi_j$, eller $\\vec c = \\vec \\Psi^T \\psi$ "
   ]
  },
  {
   "cell_type": "markdown",
   "metadata": {},
   "source": [
    "**Notasjon**\n",
    "\n",
    "$V(x) =$ `VKont(x)`  \n",
    "$L =$ `L`  \n",
    "$\\Delta x$ = `deltaX`  \n",
    "$n$ = `n`  \n",
    "$\\vec V$ = `V`  \n",
    "$\\mathbb{H} = $ `H[j][k]`  \n",
    "$\\psi = $ `psi[j][k]`  \n",
    "$c = $ `c[k]`  \n",
    "$\\Psi(x, 0) = $ `f(x)`  \n",
    "$\\vec \\Psi(t) = $ `Psi[j](t)`  "
   ]
  },
  {
   "cell_type": "code",
   "execution_count": null,
   "metadata": {},
   "outputs": [],
   "source": [
    "import matplotlib as mpl\n",
    "import matplotlib.pyplot as plt\n",
    "import scipy.linalg as la\n",
    "import numpy as np\n",
    "from numpy import pi\n",
    "\n",
    "\n",
    "\n",
    "L = 1\n",
    "n = 1000\n",
    "m = 1\n",
    "k = 1\n",
    "hbar = 1\n",
    "inf = 1e10        # Alle vet at uendelig er ca 10 milliarder\n",
    "deltaX = L / (n + 1)\n",
    "x = np.linspace(0, L, n + 2)\n",
    "\n",
    "\n",
    "def solveTUSL(V, x, n):\n",
    "    \n",
    "    # Hjj are diagonal values, HOD are of the diagonal\n",
    "    Hjj = hbar**2 / (m * deltaX**2)* np.ones(n) + V[1:-1]\n",
    "    HOD= -hbar**2 / (2 * m * deltaX**2) * np.ones(n - 1)\n",
    "    return la.eigh_tridiagonal(Hjj, HOD)\n",
    "\n",
    "\n",
    "def plotEigenfunc(phi, V, x, l):\n",
    "    \n",
    "    font = {'family' : 'serif',\n",
    "        'weight' : 'normal',\n",
    "        'size'   : 25}\n",
    "    plt.rcParams['mathtext.fontset'] = 'dejavuserif'\n",
    "    mpl.rc('font', **font)\n",
    "    \n",
    "    fig, ax1 = plt.subplots(1, 1, figsize=(20, 10))\n",
    "\n",
    "    # Inneholder Line2D elementer som viser legend hvordan linja ser ut\n",
    "    legendElement = [0] * (l + 1)\n",
    "    legendElement[0], = ax1.plot(x, V, color=\"Black\", label=\"$V_0$\")\n",
    "    ax1.set_label(\"E\")\n",
    "    ax1.set_xlabel(\"$x/[m]$\")\n",
    "    ax1.set_ylabel(\"$E/[J]$\")\n",
    "    labels =  [0] * (l + 1)\n",
    "    labels[0] = \"$V(x)$\"\n",
    "    ax2 = ax1.twinx()\n",
    "    ax2.set_ylabel(\"$\\psi$\")\n",
    "\n",
    "    for i in range(l):\n",
    "        legendElement[1 + i],  = ax2.plot(x[1: -1], phi[:, i])\n",
    "        labels[1+ i] = \"$E_\" + str(i + 1) + \"$\"\n",
    "\n",
    "    ax1.set_ylim(np.min(V[1:-1])*1.2, np.max(V[1:-1])*1.2)\n",
    "    ax2.set_ylim(np.min(phi)*1.2, np.max(phi)*1.2)\n",
    "    ax2.legend(legendElement[:][:l + 1], labels[:l + 1], fontsize=20)\n",
    "    plt.show()"
   ]
  },
  {
   "cell_type": "markdown",
   "metadata": {},
   "source": [
    "## Oppgave 1: Partikkel i boks\n",
    "\n",
    "1) Sjekk om svar stemmer med de analytiske løsningene  \n",
    "2) Sjekk om løsningene er ortonormerte  \n",
    "3) Sjekk om det er et fullstendig sett\n",
    "\n",
    "\n",
    "(Gjør det mulig å tidsuvikle en sartposisjon?)  \n",
    "(Lag finer plott?)"
   ]
  },
  {
   "cell_type": "code",
   "execution_count": null,
   "metadata": {},
   "outputs": [],
   "source": [
    "V = np.zeros(n + 2)\n",
    "V[0], V[-1] = inf, inf\n",
    "\n",
    "def EExact(j):\n",
    "    return hbar * ((j + 1) * pi / L)**2 / (2 * m)\n",
    "\n",
    "E, phi = solveTUSL(V, x, n)\n",
    "l = 4\n",
    "\n",
    "plotEigenfunc(phi, V, x, l)\n",
    "\n",
    "fig, axs = plt.subplots(1, 1, figsize=(20, 10))\n",
    "legendElement = [0, 0]\n",
    "labels = [\"$E_0$ analytcally\", \"$E_0$ numerically\"]\n",
    "\n",
    "print(\"Energies:\")\n",
    "print(\"Numerical:       Analytical:\")\n",
    "for i in range(l):\n",
    "    print(E[i], EExact(i))\n",
    "    legendElement[0], = axs.plot(x[0:n//2], np.ones(n//2) * E[i], linewidth=8, color=\"blue\")\n",
    "    legendElement[1], = axs.plot(x[n//2:-1], np.ones(n//2 + 1) * EExact(i), linewidth=8, color= \"red\")\n",
    "    \n",
    "axs.set_ylim(0, E[l - 1]*1.2)\n",
    "axs.legend(legendElement[:], labels)\n",
    "plt.show()"
   ]
  },
  {
   "cell_type": "markdown",
   "metadata": {},
   "source": [
    "## Oppgave 2: Atomer"
   ]
  },
  {
   "cell_type": "code",
   "execution_count": null,
   "metadata": {},
   "outputs": [],
   "source": [
    "V0 = -20\n",
    "V = np.concatenate((np.zeros(n // 3 + 1), V0 * np.ones(n - 2 * n // 3), np.zeros(n // 3 + 1)))\n",
    "\n",
    "V[0] = inf\n",
    "V[-1] = inf\n",
    "E, phi = solveTUSL(V, x, n)\n",
    "l = 5\n",
    "plotEigenfunc(phi, V, x, l)\n",
    "\n",
    "for i in range(l):\n",
    "    print(E[i] - V[1:-1][i])"
   ]
  },
  {
   "cell_type": "markdown",
   "metadata": {},
   "source": [
    "## Oppgave 3: Molekyler"
   ]
  },
  {
   "cell_type": "code",
   "execution_count": null,
   "metadata": {},
   "outputs": [],
   "source": [
    "V0 = -50\n",
    "w = 5\n",
    "V = np.ones(1) * inf\n",
    "for i in range(w):\n",
    "    V = np.concatenate((V, np.zeros(n // (2*w + 1)), V0 * np.ones(n - (w + 1)* n // (2*w + 1))))\n",
    "    print(V)\n",
    "\n",
    "V = np.concatenate((np.zeros(n // (2*w + 1)), np.ones(1) * inf))\n",
    "\n",
    "E, phi = solveTUSL(V, x, n)\n",
    "l = 3\n",
    "plotEigenfunc(phi**2, V, x, l)\n",
    "\n",
    "for i in range(l):\n",
    "    print(E[i] - V[1:-1][i])"
   ]
  },
  {
   "cell_type": "markdown",
   "metadata": {},
   "source": [
    "## Oppgave 4: Krystaller"
   ]
  },
  {
   "cell_type": "code",
   "execution_count": null,
   "metadata": {},
   "outputs": [],
   "source": []
  },
  {
   "cell_type": "markdown",
   "metadata": {},
   "source": [
    "## Bonus: Tidsutvikling"
   ]
  },
  {
   "cell_type": "code",
   "execution_count": null,
   "metadata": {},
   "outputs": [],
   "source": []
  },
  {
   "cell_type": "markdown",
   "metadata": {},
   "source": [
    "## Lekestua"
   ]
  },
  {
   "cell_type": "code",
   "execution_count": null,
   "metadata": {},
   "outputs": [],
   "source": [
    "def VExact(x):\n",
    "    return 1/2*m*k*(x - L/2)**2*1000\n",
    "\n",
    "V = VExact(x)\n",
    "V[0] = inf\n",
    "V[-1] = inf\n",
    "E, phi = solveTUSL(V, x, n)\n",
    "l = 5\n",
    "plotEigenfunc(phi, V, x, l)\n",
    "for i in range(l):\n",
    "    print(E[i] - V[1:-1][i])"
   ]
  }
 ],
 "metadata": {
  "kernelspec": {
   "display_name": "Python 3",
   "language": "python",
   "name": "python3"
  },
  "language_info": {
   "codemirror_mode": {
    "name": "ipython",
    "version": 3
   },
   "file_extension": ".py",
   "mimetype": "text/x-python",
   "name": "python",
   "nbconvert_exporter": "python",
   "pygments_lexer": "ipython3",
   "version": "3.7.1"
  }
 },
 "nbformat": 4,
 "nbformat_minor": 2
}
