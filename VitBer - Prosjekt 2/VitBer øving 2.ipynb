{
 "cells": [
  {
   "cell_type": "markdown",
   "metadata": {},
   "source": [
    "# Numerisk løsning av den tidsuavhengige Schrödingerligningen med med en differansemetode\n",
    "VitBer Gruppe 49: Martin Johnsrud, Hans Giil, Eirik Høydalsvik"
   ]
  },
  {
   "cell_type": "markdown",
   "metadata": {},
   "source": [
    "### Teori\n",
    "Ved å finne numeriske endimensjonale løsninger av den tidsuavhengige schrödingerlikningen, heretter kalt TUSL,  kan man studere den kvalitative oppførselen til atomer, molekyler og krystaller. I oppgave 1 og 2 sammenlignes numeriske og analytiske løsninger for enkle potensialer for å verifisere at den numeriske løsningen er riktig. I oppgave 3 sammenliknes bindingsenergien til $\\mathrm{H_2}$ og $\\mathrm{He_2}$ for å kvalitativt forstå bindende og antibindende orbitaler. I oppgave 4 studeres energibåndene i en enkel modell for en krystall.\n",
    " \n",
    "I en dimensjon er TUSL gitt ved\n",
    " \n",
    "$$ \\hat H \\psi(x) =  \\Big( \\frac{-\\hbar^2}{2m} \\frac{\\partial^2}{\\partial x^2} + \\hat V\\Big) \\psi(x) = E \\psi(x). $$\n",
    " \n",
    "For å løse TUSL numerisk på et intervall gjøres antagelsen om at potensialet er uendelig utenfor intervallet. På intervallet kan potensialet ha vilkårlig form. Intervallet $I$ diskretiseres i $n$ delintervaller, $\\{I_j\\}_{j = 1} ^ {n}$, med lengder på $\\Delta x = L / (n + 1)$. Potensialet i det numeriske problemet blir ${\\vec V} = [V_1, V_2, ... V_{n}]$ med $V_j = V(\\Delta x \\cdot j), \\, j = 1, 2, ... n$ og grensebetingelsene $V_0 = V_{n+1} = \\infty$. $\\psi(x)$ diskretiseres på samme måte som potensialet, der  $\\vec \\psi$ er gitt av $\\psi_j = \\psi(\\Delta x \\cdot j)$  og  $\\, \\psi_0 = \\psi_{n+1} = 0$. Hamiltonoperatoren tilnærmes med matrisen $\\mathbb{H} = [H_{j, k}]$, som er tridiagonal, slik at\n",
    " \n",
    "$$\n",
    "\\mathbb{H}=\n",
    "\\begin{pmatrix}\n",
    "    H_{1, 1} & H_{1, 2} & 0        & 0            & \\dots        & 0           \\\\[1mm]\n",
    "    H_{2, 1} & H_{2, 2} & H_{2, 3} & 0            & \\dots        & \\vdots      \\\\[1mm]\n",
    "    0        & H_{3, 2} & \\ddots   & \\ddots       & 0            & 0           \\\\[1mm]\n",
    "    0        & 0        & \\ddots   & \\ddots       & H_{n-2, n-1} & 0           \\\\[1mm]\n",
    "    \\vdots   & \\vdots   & 0        & H_{n-1, n-2} & H_{n-1, n-1} & H_{n-1, n}  \\\\[1mm]\n",
    "    0        & \\dots    & 0        & 0            & H_{n, n-1}   & H_{n, n}    \\\\[1mm]\n",
    " \\end{pmatrix}\n",
    "$$\n",
    " \n",
    "hvor $H_{j, j} = \\frac{\\hbar^2}{m(\\Delta x)^2} + V_j$, og $H_{j, j\\pm 1} = \\frac{-\\hbar^2}{2m(\\Delta x)^2}$. TUSL kan da aproskimeres som et egenverdiproblem,\n",
    " \n",
    "$$ \\mathbb{H} \\vec \\psi_k = E_k \\vec \\psi_k$$\n",
    "k\n",
    "Dette gir $n$ forskjellige egenverdier $E_k$, med tilhørende egenvektorer $\\vec \\psi_k$.\n"
   ]
  },
  {
   "cell_type": "markdown",
   "metadata": {},
   "source": [
    "### Dimesjonsløshet\n",
    "\n",
    "For å ungå flyttallsfeil innføres de dimesjonsløse størrelsene $ q = x / \\omega $, $ \\epsilon = E / (\\hbar^2 / 2m\\omega^2) $ og $ \\hat \\nu = \\hat V / (\\hbar^2 / 2m\\omega^2) $, hvor $\\omega$ er  bredden til brønnen. Intervallet får dermed en lengde $L^* = L / \\omega$. Ved å multiplisere med $2m\\omega^2 / \\hbar^2 $ på begge sider av Schrödingerligningen og bruke sammenhengen\n",
    "\n",
    "$$ \\frac{\\partial^2}{\\partial q^2} \\psi(q) = \\Big( \\frac{\\partial x}{\\partial q} \\frac{\\partial}{\\partial x} \\Big)^2 \\psi(x)= \\omega^2 \\frac{\\partial^2}{\\partial x^2} \\psi(x), $$\n",
    "\n",
    "kan Schrödingerligningen skrive om til\n",
    "\n",
    "\\begin{equation}\n",
    "    \\Big(\\hat \\nu - \\frac{\\partial^2}{\\partial q^2} \\Big) \\psi = \\epsilon \\psi\n",
    "    \\label{eq:1}\n",
    "\\end{equation}\n",
    "\n",
    "Dette gjør at de nye elementene i $ \\mathbb{H} $ matrisen blir $ H_{j, j} = 2 / (\\Delta q)^2 + \\hat \\nu$ og $ H_{j, j \\pm 1} = - 1 / (\\Delta q)^2$, hvor $\\Delta q = L^* / (n + 1)$."
   ]
  },
  {
   "cell_type": "markdown",
   "metadata": {},
   "source": [
    "**Notasjon**\n",
    "\n",
    "$L^* =$ `LStar`  \n",
    "$\\Delta q$ = `deltaq`  \n",
    "$n$ = `n`   \n",
    "$\\nu(q) =$ `vKont(q)`  \n",
    "$\\vec \\nu$ = `v`  \n",
    "$\\epsilon_k =$ `eps[k]`  \n",
    "$\\psi = $ `psi[j][k]`    \n",
    "$\\vec \\psi_k =$ `psi[:, k]`  \n",
    "$\\omega =$ `w`  \n",
    "$\\mathbb{H} = $ `H[j][k]`  "
   ]
  },
  {
   "cell_type": "code",
   "execution_count": null,
   "metadata": {},
   "outputs": [],
   "source": [
    "import matplotlib as mpl\n",
    "from matplotlib import cm\n",
    "import matplotlib.pyplot as plt\n",
    "import scipy.linalg as la\n",
    "import numpy as np\n",
    "from numpy import pi\n",
    "\n",
    "font = {'family' : 'serif', \n",
    "        'weight' : 'normal', \n",
    "        'size'   : 25}\n",
    "plt.rcParams['mathtext.fontset'] = 'dejavuserif'\n",
    "plt.rc(\"lines\", lw=2)\n",
    "plt.rc('font', **font)"
   ]
  },
  {
   "cell_type": "markdown",
   "metadata": {},
   "source": [
    "Løser (1) numerisk, som beskrevet i teorien. Returnerer $\\epsilon$ og $\\psi$."
   ]
  },
  {
   "cell_type": "code",
   "execution_count": null,
   "metadata": {},
   "outputs": [],
   "source": [
    "def solveTUSL(v, LStar):\n",
    "    \n",
    "    # Hjj are diagonal values, HOD are of the diagonal\n",
    "    deltaq = LStar / (len(v) + 1)\n",
    "    Hjj = 2 / deltaq**2 * np.ones(len(v)) + v\n",
    "    HOD = -1 / deltaq**2 * np.ones(len(v) - 1)\n",
    "    return la.eigh_tridiagonal(Hjj, HOD)"
   ]
  },
  {
   "cell_type": "markdown",
   "metadata": {},
   "source": [
    "Lager en krystall med `Nw` brønner med dybde `v0` (anntas negativ). Returnerer $\\epsilon,\\, \\psi,\\, \\nu,\\,$ og $q$. `w` er antall punkter i hver brønn, `b` er antall punkter i mellom brønnen og `B * w` er antall punkter på sidene."
   ]
  },
  {
   "cell_type": "code",
   "execution_count": null,
   "metadata": {},
   "outputs": [],
   "source": [
    "def makeChrystal(Nw, v0, w=10, b=3, B=10):\n",
    "    v = np.zeros(B * w)\n",
    "    if Nw:\n",
    "        v = np.concatenate((v, v0 * np.ones(w)))    \n",
    "    for i in range(Nw - 1):\n",
    "        v = np.concatenate((v, np.zeros(b), v0 * np.ones(w)))\n",
    "    v = np.concatenate((v, np.zeros(B * w)))\n",
    "\n",
    "    LStar = len(v) / w\n",
    "    q = np.linspace(0, LStar, len(v))\n",
    "    eps, psi = solveTUSL(v, LStar)\n",
    "    return eps, psi, v, q"
   ]
  },
  {
   "cell_type": "markdown",
   "metadata": {},
   "source": [
    "Plotter potensialbrønnen, `l` energiegenverdier ($\\epsilon_k$) og de tilhørende egenvektorene $\\vec \\psi_k$. Y-aksen angir verider for $\\epsilon$. `epsRange` gir verdiene som vises på y-aksen. Nøkkelordene `legend` og `showWave` bestemmer om hhv. linjeforklaringen og $\\psi(q)$, vises, mens `waveSize` gir muligheten for å skalere $\\psi(q)$."
   ]
  },
  {
   "cell_type": "code",
   "execution_count": null,
   "metadata": {},
   "outputs": [],
   "source": [
    "def plotEigenfunc(eps, psi, v, q, l,  epsRange=(0, 0), legend=True, showWave=True, waveSize=0):\n",
    "\n",
    "    fig, ax1 = plt.subplots(1, 1, figsize=(20, 10))\n",
    "    \n",
    "    inf = 1e10  # Alle vet at uendelig er ca 10 milliarder\n",
    "    v = np.concatenate(([inf], v, [inf]))\n",
    "    q = np.concatenate(([0], q, [q[-1]]))\n",
    "    \n",
    "    # Inneholder Line2D elementer som viser legend hvordan linja ser ut\n",
    "    legendElement = [0] * (l + 1)\n",
    "    ax1.set_xlabel(\"$q$\", fontsize=50)\n",
    "    ax1.set_ylabel(\"$\\\\epsilon$\", fontsize=50)\n",
    "    labels =  [0] * (l + 1)\n",
    "    legendElement[0], = ax1.plot(q, v, color=\"Black\")\n",
    "    labels[0] = \"$ \\\\nu (q)$\"\n",
    "    \n",
    "    scalePsi = 0\n",
    "    if showWave: \n",
    "        if waveSize: scalePsi = waveSize\n",
    "        else: scalePsi = (epsRange[1] - epsRange[0]) / (5 * np.max(psi))\n",
    "    \n",
    "    for i in range(l):\n",
    "        legendElement[1 + i], = ax1.plot(q[1: -1], psi[:, i] * scalePsi + eps[i] * np.ones_like(q[1: -1]), \n",
    "                                         color=cm.viridis(i/l))\n",
    "        ax1.plot(q, eps[i] * np.ones_like(q), \"--\",  color= legendElement[1 + i].get_color())\n",
    "        labels[1 + i] = \"$\\epsilon_\" + str(i + 1) + \"$\"\n",
    "    \n",
    "    ax1.set_ylim(epsRange)\n",
    "    ax1.set_ylim(epsRange)\n",
    "    \n",
    "    if legend:\n",
    "        ax1.legend(legendElement[:][:l + 1], labels[:l + 1], fontsize=20)\n",
    "    \n",
    "    plt.show()"
   ]
  },
  {
   "cell_type": "markdown",
   "metadata": {},
   "source": [
    "Konverterer fra den dimesjonsløse variablen $\\epsilon$ til $E$, og gir verdier i elektronvolt eller joule."
   ]
  },
  {
   "cell_type": "code",
   "execution_count": null,
   "metadata": {},
   "outputs": [],
   "source": [
    "hbar = 1.0545e-34\n",
    "m_e = 9.11e-31\n",
    "w = 5.00e-10\n",
    "eV = 1.60e-19\n",
    "\n",
    "def EJ(eps):\n",
    "    return eps * hbar**2 / (m_e * w**2)\n",
    "\n",
    "def EeV(eps):\n",
    "    return eps * hbar**2 /  (eV * m_e * w**2)"
   ]
  },
  {
   "cell_type": "markdown",
   "metadata": {},
   "source": [
    "## Oppgave 1: Partikkel i boks\n",
    "\n",
    "Under er de første 5 energiegenverdiene plottet, sammen med tilhørende stasjonære løsning."
   ]
  },
  {
   "cell_type": "code",
   "execution_count": null,
   "metadata": {},
   "outputs": [],
   "source": [
    "eps1, psi1, v1, q1 = makeChrystal(0, 0, w= 250)\n",
    "l1 = 5\n",
    "plotEigenfunc(eps1, psi1, v1, q1, l1, (-eps1[0]*5, eps1[l1 - 1] * 1.4))"
   ]
  },
  {
   "cell_type": "markdown",
   "metadata": {},
   "source": [
    "### Energiegenverdier\n",
    "\n",
    "Den analytiske løsningen for energien til en partikkel i boks er \n",
    "\n",
    "$$ \\epsilon_k = \\frac{2m\\omega^2}{\\hbar^2} E_k = \\Big(\\frac{k \\pi}{L^*}\\Big)^2. $$\n",
    "\n",
    "Under printes både numeriske og analytisk beregnet dimensjonsløs energi, og man kan tydlig se at de stemmer godt overens, med relativ feil mindre enn $10^{-7}$."
   ]
  },
  {
   "cell_type": "code",
   "execution_count": null,
   "metadata": {},
   "outputs": [],
   "source": [
    "def epsExact(k, LStar):\n",
    "    return (k * np.pi / LStar)**2\n",
    "\n",
    "precision = 6\n",
    "tableWidth = 15\n",
    "\n",
    "print(\"Energies:\")\n",
    "print(\"Numerisk:\".ljust(tableWidth), \"Analytisk:\".ljust(tableWidth), \"Relativ feil:\".ljust(tableWidth))\n",
    "\n",
    "for i in range(l1):\n",
    "    print((\"{:.{prec}e}\").format(eps1[i], prec=precision).ljust(tableWidth),\\\n",
    "          (\"{:.{prec}e}\").format(epsExact(i + 1, q1[-1]), prec=precision).ljust(tableWidth),\\\n",
    "          (\"{:.{prec}e}\").format((epsExact(i + 1, q1[-1]) - eps1[i]) / epsExact(i + 1, q1[-1]), \n",
    "                                 prec=precision).ljust(tableWidth))"
   ]
  },
  {
   "cell_type": "markdown",
   "metadata": {},
   "source": [
    "### Ortonormalitet og fullstendig sett\n",
    "Vektorene $ \\vec \\psi_k $ ortonormale opp til en feil av størrelsesorden $10^{-12}$. Med $\\psi = [\\vec \\psi_1 ... \\vec \\psi_n]$ er altså $\\psi \\cdot \\psi^T = \\mathbb{I}$, identitetsmatrisen, som sjekkes i koden under. Dette viser også at $\\psi$ er inverterbar, som betyr at den er en basis til $ \\mathbb{R}^n $, og dermed også et fullstendig sett."
   ]
  },
  {
   "cell_type": "code",
   "execution_count": null,
   "metadata": {},
   "outputs": [],
   "source": [
    "np.set_printoptions(precision=2)\n",
    "\n",
    "p = psi1 @ psi1.T\n",
    "print(p)\n",
    "\n",
    "# Sjekker om diagonalen er nær 1, og resten nær 0\n",
    "tol = 10e-12\n",
    "i = 0\n",
    "while(i < len(p[0]) and p[i, i] - 1 < tol and np.sum(abs(p[i,:i:])) < tol): i += 1\n",
    "print(\"\\nFeil innenfor toleransen: \", i == len(p))"
   ]
  },
  {
   "cell_type": "markdown",
   "metadata": {},
   "source": [
    "## Oppgave 2: Atomer\n",
    "Et potensiale med en firkantet brønn kan brukes som en enkel modell for et atom, som kvalitativt kan beskrive oppførselen til elektronenes tilstander. Med brønndybden $\\mathrm{V_0} = -70 (\\hbar^2 / 2m\\omega^2) =  -21.36 \\mathrm{eV}$ er det tre bundne tilstander. Det er tydelig at grunntilstanden er symmetrisk om midtpunktet, første eksiterte tilstand er antisymmetrisk, første eksiterte tilstand er symmetrisk og så videre. Dette gjelder alltid så lenge potensialet er symmetrisk. Det er også slik at grunntilstanden har null nullpunkter, første eksiterte tilstand har ett nullpunkt, og så videre. Dette gjelder generelt i kvantemekanikk. Med en brønnbredde på $5.0 \\mathrm{Å}$ blir bølgelengdene til de tre bundne tilstandene henholdsvis $12.4 \\mathrm{Å}$, $6.28 \\mathrm{Å}$ og $4.30 \\mathrm{Å}$. Dette stemmer godt overens med bølgene som er vist i figuren.\n",
    "Det observeres at det er svært mange ubundne tilstander med liten forskjell i energi, i det som kan beskrives som et kvasikontinuerlig spektrum. For tredje eksiterte tilstand er bølgelengden forskjellig inni og utenfor brønnen. Disse bestemmes til å være $3.75 \\mathrm{Å}$ innenfor brønnen og $102.05\\mathrm{Å}$ utenfor brønnen.\n",
    " \n",
    "Med tre bundne tilstander kan denne modellen tilnærme atomnummer $1$ til $6$ fordi det kan plasseres 2 elektroner, et med spinn opp og et med spinn ned, i hver energitilstand. Denne modellen tar ikke hensyn til degenerasjon, og det vil derfor aldri være mulig å ha mer enn to elektroner i hver tilstand. Dersom det skal tas hensyn til degenerasjon er ikke modellen gyldig for atomnummer $5$ og $6$, fordi elektron $5$ og $6$ vil havne i første eksiterte tilstand i en modell med degenerasjon, mens de vil ligge i 2. eksiterte tilstand i denne modellen. Fordi hvert elektron har spinn $s = \\pm1/2$ og det vil være elektroner med 2 ulike spinn i hver energitilstand, vil oddetallsatomer ha spinn $s = \\pm1/2$ i grunntilstanden, mens partallsatomer vil ha spinn $s = 0$ i grunntilstanden.\n"
   ]
  },
  {
   "cell_type": "markdown",
   "metadata": {},
   "source": [
    "### Modell av et enkelt atom\n",
    "Under er de fire første bølgefunksjonene plottet sammen med sin tilhørende enegi. Energiene til disse tilstandene i elektronvolt er også skrevet ut."
   ]
  },
  {
   "cell_type": "code",
   "execution_count": null,
   "metadata": {},
   "outputs": [],
   "source": [
    "v0 = -70\n",
    "l2 = 4\n",
    "eps2, psi2, v2, q2 = makeChrystal(1, v0, w=100, b=30)\n",
    "plotEigenfunc(eps2, psi2, v2, q2, l2, (eps2[0] * 1.2, -eps2[0] * 0.5))\n",
    "for i in range(l2):\n",
    "    print(\"Energien til tilstand\", i , \"er :\", round(EeV(eps2[i]), 4), \"eV.\")"
   ]
  },
  {
   "cell_type": "markdown",
   "metadata": {},
   "source": [
    "### Kvasikontinuerlig energispektrum\n",
    "Under plottes energien til de første 50 tilstandene. Energiene til de ubundne tilstandene ligger i et kvasikontinuerlig spektrum."
   ]
  },
  {
   "cell_type": "code",
   "execution_count": null,
   "metadata": {},
   "outputs": [],
   "source": [
    "plotEigenfunc(eps2, psi2, v2, q2, 50, (eps2[0] * 1.2, eps2[50]), showWave=False, legend=False)"
   ]
  },
  {
   "cell_type": "markdown",
   "metadata": {},
   "source": [
    "### Sammenligning med analytiske uttrykk\n",
    "Det analytiske uttrykket for energien til de bundne tilstandene til en enkel potensialbrønn,\n",
    "\n",
    "$$ \\tan \\Big( \\sqrt{\\frac{\\epsilon_n - \\nu_0}{4}} \\Big) = \\sqrt{\\frac{\\epsilon_n}{\\nu_0 - \\epsilon_n}},\\, \\tan \\Big( \\sqrt{\\frac{\\epsilon_n - \\nu_0}{4}} \\Big) = - \\sqrt{\\frac{\\nu_0 - \\epsilon_n}{\\epsilon_n}},$$ \n",
    "\n",
    "for hhv. symetriske og antisymetriske løsninger, kan ikke løses analytisk for energien. Under brukes en numerisk ligningsløser til å bestemme energiene til de tre bundne tilstandene. Disse energiene er opp til flere desimalers nøyaktighet like som energiene funnet tidligere. Bølgelengdene til de bundne tilstandene regnes også ut, i tillegg til den første ubundne tilstanden sin bølgelengde inni og utenfor brønnen. Ved å sammenligne disse med figuren, der brønnbredden er $5 \\mathrm{Å}$, er de utregnede verdiene er rimelige."
   ]
  },
  {
   "cell_type": "code",
   "execution_count": null,
   "metadata": {},
   "outputs": [],
   "source": [
    "from scipy.optimize import fsolve\n",
    "from numpy import tan,sqrt\n",
    "\n",
    "\n",
    "#Analytiske implisitte uttrykk for energien i symmetriske og antisymmetriske tilstander.\n",
    "funcSym = lambda epsn: tan(sqrt((epsn - v0))/2) - sqrt(( epsn)/(v0 - epsn))  \n",
    "funcASym = lambda epsn: tan(sqrt((epsn - v0))/2) + sqrt((v0 - epsn)/epsn)\n",
    "\n",
    "#Grunntilstand:\n",
    "sol0 = fsolve(funcSym, -69)   #Gjetter en verdi for E som ligger i nærheten av de løsningene som ble funnet\n",
    "print(\"Grunntilstanden har energi: \", round(EeV(sol0[0]), 2), \"eV\")\n",
    "\n",
    "k0 = np.sqrt(sol0[0] - v0) / w\n",
    "\n",
    "lamb0 = 2 * pi / k0 /1e-10\n",
    "print(\"Grunntlstanden har bølgelengde: \",round(lamb0, 2), \"Å\\n\")\n",
    "\n",
    "#1.eksiterte:\n",
    "sol1 = fsolve(funcASym, -20)   #Gjetter en verdi for E som ligger i nærheten av de løsningene som ble funnet\n",
    "print(\"Første eksiterte tilstand har energi:\", round(EeV(sol1[0]), 2), \"eV\")\n",
    "\n",
    "k1 = np.sqrt(sol1[0] - v0)/ w\n",
    "lamb1 = 2 * pi / k1 /1e-10\n",
    "print(\"Første eksiterte tilstand har bølgelengde: \", round(lamb1, 2), \"Å \\n\")\n",
    "\n",
    "\n",
    "#2.eksiterte :\n",
    "sol2 = fsolve(funcSym, -20)   #Gjetter en verdi for E som ligger i nærheten av de løsningene som ble funnet\n",
    "print(\"Andre eksiterte tilstand har energi: \", round(EeV(sol2[0]), 2), \"eV\")\n",
    "\n",
    "k2 = np.sqrt(sol2[0] - v0)/ w\n",
    "lamb2 = 2 * pi / k2 /1e-10\n",
    "print(\"Andre eksiterte tilstand har bølgelengde: \", round(lamb2, 3), \"Å\\n\")\n",
    "\n",
    "#3. eksiterte:\n",
    "k3B = np.sqrt(eps2[3]) / w\n",
    "k3UB = np.sqrt(eps2[3] - v0) / w\n",
    "lamb3B = 2 * pi / k3B / 1e-10\n",
    "lamb3UB = 2 * pi / k3UB/ 1e-10\n",
    "print(\"Tredje eksiterte tilstand har bølgelengde: \", round(lamb3UB, 2), \"Å inni brønnen, og \", round(lamb3B, 2), \"Å utenfor brønnen.\")"
   ]
  },
  {
   "cell_type": "markdown",
   "metadata": {},
   "source": [
    "## Oppgave 3: Molekyler\n",
    "To potensialbrønner kan brukes som en enkel modell for bindinger mellom to atomer, som for eksempel mellom to hydrogenatomer eller mellom to heliumatomer. Før bindingen beskrives hydrogenatomet som en potensialbrønn med ett elektron i grunntilstanden og helium vil på grunn av spinndegenerasjon beskrives som en potensialbrønn med to elektroner i grunntilstanden. Bindingen mellom atomene beskrives med to potensialbrønner. Hydrogenbindingen beskrives med 2 elektroner i grunntilstanden og heliumbindingen med 4 elektroner totalt, der 2 elektroner befinner seg i grunntilstanden og 2 elektroner befinner seg i første eksiterte tilstand. Bindingsenergien settes lik differansen mellom elektronenes totale energi i atomet og i bindingen.\n",
    " \n",
    "Med potensialbrønner med bredde $\\omega = 5Å$, bredde mellom brønnene $b = 1.5 Å$ og potensialbrønn med dybde på $ V_0 = -21.36 \\mathrm{eV} $, ble grunntilstandsenergien til en enkel potensialbrønn $E_{1,0} = -19.41\\text{eV}$. Grunntilstandsenergien og 1 eksiterte tilstand for 2 potensialbrønner ble henholdsvis $E_{2,0} = -19.48\\text{eV}$ og $E_{2,1} = -19.35\\text{eV}$. Bindingsenergien til hydrogen blir da $2(E_{2,1} - E_{2,0}) = 0.26\\text{eV}$. Bindingsenergien for helium blir da $2(2E_{1,0} - E_{2,0} - E_{2,1}) = 0.02\\text{eV}$.\n",
    "\n",
    "Modellen sier at hydrogen vil bindes til $\\mathrm{H_2}$ i større grad enn helium vil bindes til $\\mathrm{He_2}$.  Den 1.eksiterte tilstanden til molekylet er en antibindende orbital siden elektronene må få høyere energi for å bindes. Grunntilstanden til molekylet er en bindende orbital siden det frigjøres energi når elektronene bindes. Dette stemmer overens med virkeligheten, hvor omtrent alt rent hydrogen finnes i form av $\\mathrm{H_2}$, mens helium i hovedsak finnes som enkeltatomer."
   ]
  },
  {
   "cell_type": "code",
   "execution_count": null,
   "metadata": {},
   "outputs": [],
   "source": [
    "l3 = 7\n",
    "eps3, psi3, v3, q3 = makeChrystal(2, v0, w=50, b=15)\n",
    "plotEigenfunc(eps3, psi3, v3, q3, l3, (eps3[0] * 1.2, -eps3[0]*0.5))\n",
    "for i in range(l3):\n",
    "    print(\"Energien til tilstand\", i , \"er :\", round(EeV(eps2[i]), 4), \"eV.\")"
   ]
  },
  {
   "cell_type": "markdown",
   "metadata": {},
   "source": [
    "## Oppgave 4: Krystaller\n",
    "En enkel modell for en endimensjonal krystall er mange potensialbrønner plasert ved siden av hverandre.\n",
    "I oppgave 3 ble det observert at 2 potensialbrønner ga 6 bundne tilstander med par av energinivåer ved energiene til de bundne tilstandene til den enkle potensialbrønnen. Dersom antall brønner blir satt til $\\mathrm{N_{\\omega}} = 5$ blir det 15 bundne tilstander med 5 energinivåer i nærheten av hvert energinivå til den enkle potensialbrønnen. Med $N_{\\omega}$ antall brønner blir det altså 3 energibånd med Nw energinivåer i nærheten av hvert energinivå til den enkle potensialbrønn.\n",
    "\n",
    "Dersom hvert atom i krystallen har 4 elektroner vil det totalt være $4N_\\omega$ elektroner som med spindegenerasjon kan fylle  $2\\mathrm{N_{\\omega}}$ orbitaler. Dersom det er så lav temperatur at krystallen er i grunntilstanden vil de to elektronene med mest energi befinne seg i energinivå nummer $2 N_\\omega - 1$. Energinivået tilsvarer det øverste energinivået i bånd nummer 2 og vil for store verdier av $N_\\omega$ ha en energi $E = -13.39\\mathrm{eV}$. Båndgapet, forskjellen i energi mellom tilstand $2N_\\omega$ og $2N_\\omega -1$ er $6.52\\mathrm{eV}$. Siden båndgapet er større en $3 \\mathrm{eV}$ er krystallen en isolator og ikke en halvleder."
   ]
  },
  {
   "cell_type": "code",
   "execution_count": null,
   "metadata": {},
   "outputs": [],
   "source": [
    "k = 20\n",
    "l4 = k * 3 + 1\n",
    "eps4, psi4, v4, q4 = makeChrystal(k, -70)\n",
    "plotEigenfunc(eps4, psi4, v4, q4, l4, (eps4[0] * 1.2, -eps4[0]*0.5), legend=False, showWave=False)\n",
    "\n",
    "print(\"Båndgap mellom tilstand 2 og 3:\".ljust(32),round(EeV(eps4[2*k]-eps4[2*k-1]),2), \"eV\")\n",
    "print(\"Båndbredde bånd 1:\".ljust(32),round(EeV(eps4[k-1]-eps4[0]),2), \"eV\")\n",
    "print(\"Energinivå 2Nw:\".ljust(31), round(EeV(eps4[2*k-1]),2), \"eV\")"
   ]
  },
  {
   "cell_type": "markdown",
   "metadata": {},
   "source": [
    "## Båndbredde\n",
    "Under plottes båndbredde som en funksjon av antall brønner, $N_\\omega$. Breddene konvergerer raskt."
   ]
  },
  {
   "cell_type": "code",
   "execution_count": null,
   "metadata": {},
   "outputs": [],
   "source": [
    "Nw = 50\n",
    "deltaE = np.zeros((3, Nw - 1))\n",
    "listNw = np.arange(1, Nw)\n",
    "for i in range(1, Nw):\n",
    "    eps4, psi4, v4, q4 = makeChrystal(i, -70)\n",
    "    for j in range(3):\n",
    "        deltaE[j, i - 1] = EeV(eps4[(i*(j + 1) - 1)] - eps4[j*i]) "
   ]
  },
  {
   "cell_type": "code",
   "execution_count": null,
   "metadata": {},
   "outputs": [],
   "source": [
    "fig, ax = plt.subplots(1, 1, figsize=(15, 10))\n",
    "for i in range(3):\n",
    "    ax.plot(listNw, deltaE[i], label=\"Båndbredde \" + str(i))\n",
    "    ax.plot([-5, k*2], deltaE[i, -1]*np.array([1, 1]), \"--k\")\n",
    "    \n",
    "ax.set_ylabel(\"$E / [\\\\mathrm{eV}]$\")\n",
    "ax.set_xlabel(\"$N_\\omega$\")\n",
    "ax.set_xlim(0, k)\n",
    "ax.set_ylim(0, np.max(deltaE)*1.2)\n",
    "plt.legend()\n",
    "plt.show()"
   ]
  },
  {
   "cell_type": "markdown",
   "metadata": {},
   "source": [
    "## Blochs teorem\n",
    "Ut fra figuren under er det klart absoluttkvadratet til bølgefunksjonen følger Blochs teorem, fordi den er på formen $sin(kx) u(x)$, der $u(x)$ er en funksjon som er periodisk med periode lik gitterkonstanten og $k$ er bølgetallet til elektronet. Absoluttkvadratet er plottet nedenfor for de to første tilstandene."
   ]
  },
  {
   "cell_type": "code",
   "execution_count": null,
   "metadata": {},
   "outputs": [],
   "source": [
    "k = 20\n",
    "l4 = 2\n",
    "eps4, psi4, v4, q4 = makeChrystal(k, -70)\n",
    "\n",
    "plotEigenfunc(eps4, psi4**2, v4, q4, l4, (eps4[0]*1.2, -eps4[0]*0.5), legend=False, showWave=True, waveSize=1500)"
   ]
  },
  {
   "cell_type": "markdown",
   "metadata": {},
   "source": [
    "## Bonus: Tidsutvikling\n",
    "En diskretisert starttilstand $\\vec \\Psi, \\Psi_j = \\Psi(j \\Delta q, 0)$ kan tidsutvikles ved å skrive den som \n",
    "\n",
    "$$ \\Psi_j = \\sum_{k = 1}^n c_k \\psi_{j, k} e^{-i \\epsilon_n t},\\, c_k = \\sum_{j = 1}^n \\psi_{j, k} \\Psi_j,$$\n",
    "\n",
    "eller i matrisenotasjon, \n",
    "\n",
    "$$\\vec \\Psi = \\psi (\\vec c \\circ \\exp ({-i \\vec \\epsilon t})),\\, \\vec c = \\psi^T \\vec \\Psi,$$\n",
    "\n",
    "hvor $\\circ$ er [elementvis multiplikasjon](https://en.wikipedia.org/wiki/Hadamard_product_(matrices)), ekvivalent med NumPy sin `*` operator, og $\\exp()$ virker elementvis på vektorer. I denne oppgaven er \n",
    "\n",
    "$$\\Psi(x, 0) = (2 \\pi \\sigma^2)^{-\\frac{1}{4}} \\exp\\big(-\\frac{(q - q_0)^2}{4\\sigma^2} + ip^*_0(q - q_0))\\big),$$\n",
    "\n",
    "\n",
    "hvor $p^*_0 = \\omega / \\hbar \\cdot p_0$ er forventningsverdien til dimesjonsløs impuls."
   ]
  },
  {
   "cell_type": "markdown",
   "metadata": {},
   "source": [
    "**Notasjon**\n",
    "\n",
    "$\\sigma^2 = $ `var`  \n",
    "$q_0 = $ `q0`  \n",
    "$p^*_0 = $ `p0`  \n",
    "$\\Psi(x, 0) = $ `f(x)`  \n",
    "$\\vec \\Psi(t) = $ `Psi[j](t)`  "
   ]
  },
  {
   "cell_type": "code",
   "execution_count": null,
   "metadata": {},
   "outputs": [],
   "source": [
    "def f(q, var, p0, q0):\n",
    "    return (2 * np.pi * var)**(-1/4) * np.exp(-(q - q0)**2 / (4*var) + 1j * p0 * (q - q0))"
   ]
  },
  {
   "cell_type": "markdown",
   "metadata": {},
   "source": [
    "Under plottes $\\Psi(x, 0)$ med forskjellige verdier av $p^*_0$ og $\\sigma^2$."
   ]
  },
  {
   "cell_type": "code",
   "execution_count": null,
   "metadata": {},
   "outputs": [],
   "source": [
    "var = 0.01\n",
    "fig, ax = plt.subplots(2, 2, figsize=(22, 10))\n",
    "q = np.linspace(0, 1, 100)\n",
    "ax[0,0].set_title(\"$\\mathrm{Re}(\\Psi)$\")\n",
    "ax[0,1].set_title(\"$\\mathrm{Im}(\\Psi)$\")\n",
    "\n",
    "for i in range(1, 6):\n",
    "    ax[0, 0].plot(q, f(q, var*i, 1, 0.5).real, color=cm.coolwarm(i/6))\n",
    "    ax[0, 1].plot(q, f(q, var*i, 1, 0.5).imag, color=cm.coolwarm(i/6))\n",
    "    ax[1, 0].plot(q, f(q, var, 2*i, 0.5).real, color=cm.coolwarm(i/6))\n",
    "    ax[1, 1].plot(q, f(q, var, 2*i, 0.5).imag, color=cm.coolwarm(i/6))\n",
    "\n",
    "\n",
    "plt.show()"
   ]
  },
  {
   "cell_type": "code",
   "execution_count": null,
   "metadata": {},
   "outputs": [],
   "source": [
    "def getPsi(f, var, p0, q0=None, v0=v0, Nw=0, res=1):\n",
    "    eps, psi, v, q = makeChrystal(Nw, v0, w=res*10, b=res*3)\n",
    "    if q0 is None:\n",
    "        q0 = q[-1]/2 \n",
    "    c = psi.T @ f(q, var, p0, q0)\n",
    "    Psi = lambda t: psi @ (c * np.exp(-1j*eps*t))\n",
    "    return (eps, Psi, q, v, c)"
   ]
  },
  {
   "cell_type": "code",
   "execution_count": null,
   "metadata": {},
   "outputs": [],
   "source": [
    "eps, Psi, q, v, c = getPsi(f, 2, 0, res=5)\n",
    "fig, ax = plt.subplots(1, 1, figsize=(20, 10))\n",
    "ax.plot(q, abs(Psi(0))**2, color=cm.coolwarm(0), label=(\"$\\sigma^2 = 0.01, p_0 = 0.5$ \"))\n",
    "q = np.concatenate(([0], q, [q[-1]]))\n",
    "v = np.concatenate(([1e10], v, [1e10]))\n",
    "ax.plot(q, v, \"-k\")\n",
    "ax.set_ylim(-np.max(abs(Psi(0)))**2*0.2, np.max(abs(Psi(0)))**2)\n",
    "ax.set_ylabel(\"$|\\Psi(x, 0)|^2$\")\n",
    "ax.set_xlabel(\"$q$\")\n",
    "plt.legend()\n",
    "plt.show()"
   ]
  },
  {
   "cell_type": "code",
   "execution_count": null,
   "metadata": {},
   "outputs": [],
   "source": [
    "from matplotlib.animation import FuncAnimation as anim\n",
    "from IPython.display import HTML\n",
    "\n",
    "def timeEvolve(Psi, q, v, c, tRes=0.01, numFrames=10, scale=1.2):\n",
    "    fig, ax = plt.subplots(1, 2, figsize=(22, 10))\n",
    "    \n",
    "    ax[1].plot(np.linspace(0, len(v), len(v)), abs(c)**2)\n",
    "    ax[1].set_xlabel(\"$k$\")\n",
    "    ax[1].set_ylabel(\"$|c_k|^2$\")\n",
    "    \n",
    "    lim = np.max(abs(Psi(0))**2)\n",
    "    q = np.concatenate(([0], q, [q[-1]]))\n",
    "    v = np.concatenate(([1e10], v, [1e10]))\n",
    "    \n",
    "    if np.max(abs(v[1:-1])):\n",
    "        v = v / (np.max(abs(v[1:-1]))) * lim\n",
    "        \n",
    "    def animate(n):\n",
    "        ax[0].cla()\n",
    "        ax[0].set_ylim(-lim*scale, lim*scale)\n",
    "        ax[0].set_xlabel(\"$q$\")\n",
    "        ax[0].set_ylabel(\"$|\\Psi(x, t)|^2$\")\n",
    "        t = n * tRes\n",
    "        l = ax[0].plot(q[1:-1], np.abs(Psi(t))**2)\n",
    "        l += ax[0].plot(q, v, color=\"black\")\n",
    "        return l\n",
    "\n",
    "    a = anim(fig, animate, frames=numFrames, interval=100)\n",
    "    plt.close(fig)\n",
    "    return HTML(a.to_jshtml())"
   ]
  },
  {
   "cell_type": "markdown",
   "metadata": {},
   "source": [
    "**Tidsiutvikling i uendelig brønn**\n",
    "\n",
    "Under tidsutvikles starttilstanden beskrevet over, med parameterene $\\sigma^2=0.1,\\, p^*_0 = 0$. Som vises på grafen av $|c_k|^2$, sansynligheten for å måle bølgefunksjonen ved en gitt energi $\\epsilon_k$, er det kun egenvektorene med lav energi som bidrar til bølgefunksjonen. I animasjonen ser man at sansynligheten sprer seg utover ettersom tiden går, ettersom usikkerhet tilknyttet impuls påvirker usikkerheten i posisjon."
   ]
  },
  {
   "cell_type": "code",
   "execution_count": null,
   "metadata": {},
   "outputs": [],
   "source": [
    "eps, Psi, q, v, c = getPsi(f, 0.1, 0, res=10)\n",
    "timeEvolve(Psi, q, v, c, tRes=0.05, numFrames=100)"
   ]
  },
  {
   "cell_type": "markdown",
   "metadata": {},
   "source": [
    "Når parameterene justeres til $\\sigma^2=0.5,\\, p^*_0 = 20$ er de største bidragene fra stasjonære bidrag med energi rundt $\\epsilon = (p^*_0)^2 = 400$, som vist under."
   ]
  },
  {
   "cell_type": "code",
   "execution_count": null,
   "metadata": {},
   "outputs": [],
   "source": [
    "eps, Psi, q, v, c = getPsi(f, 0.5, 20, res=10)\n",
    "\n",
    "precision = 2\n",
    "tableWidth = 10\n",
    "\n",
    "print(\"Epsilon:\".ljust(tableWidth), \"abs(c)^2:\".ljust(tableWidth))\n",
    "\n",
    "for i in range(6):\n",
    "    print((\"{:.{prec}f}\").format(eps1[124 + i], prec=precision).ljust(tableWidth),\\\n",
    "          (\"{:.{prec}f}\").format(abs(c[124 + i])**2, prec=precision).ljust(tableWidth))\n",
    "    \n",
    "timeEvolve(Psi, q, v, np.abs(c), tRes=0.02, numFrames=100)"
   ]
  },
  {
   "cell_type": "markdown",
   "metadata": {},
   "source": [
    "**Tidsutvikling i periodisk potensiale**  \n",
    "\n",
    "I et periodisk potensiale som i oppgave 4 vil det være 60 bundne tilstander. Gitt en starttilstand med forventet impuls $p^*_0=0$, noe som vist vil si at egenvektorene med lav energi bidrar mest til bølgefunksjonen, kan en forvente at bølgefunksjonen i sum vil forbli bundet til potensialet. Dette er ilustert i plottet under."
   ]
  },
  {
   "cell_type": "code",
   "execution_count": null,
   "metadata": {},
   "outputs": [],
   "source": [
    "eps, Psi, q, v, c= getPsi(f, 20, 0, res=10, Nw=20)\n",
    "\n",
    "timeEvolve(Psi, q, v, c,tRes=0.01, numFrames=100, scale=2)"
   ]
  },
  {
   "cell_type": "markdown",
   "metadata": {},
   "source": [
    "Med en forventet impuls på $p^*_0 = \\sqrt{20}$, kan en forvente de største bidragene rundt en energi $\\epsilon = \\epsilon_0 + (p^*_0)^2 = -64.04+20=-44.04$, noe som svarer til andre elektronbånd."
   ]
  },
  {
   "cell_type": "code",
   "execution_count": null,
   "metadata": {},
   "outputs": [],
   "source": [
    "eps, Psi, q, v, c= getPsi(f, 20, sqrt(20), res=10, Nw = 20)\n",
    "\n",
    "print(\"         eps:       abs(c)^2\")\n",
    "for i in range(35, 41):\n",
    "    print(\"k =\", i, \":\", (\"{:.{prec}f}\").format(eps[i], prec=precision).ljust(tableWidth),\\\n",
    "      (\"{:.{prec}f}\").format(abs(c[i])**2, prec=precision).ljust(tableWidth))\n",
    "timeEvolve(Psi, q, v, c, numFrames = 80, tRes = 0.5)"
   ]
  },
  {
   "cell_type": "markdown",
   "metadata": {},
   "source": [
    "Til slutt, gitt en langt høyere forventet impuls vil bølgefunksjonen for det mebestå av frie stasjonære tilstander, og kommer derfor til å være for det meste upåvirket av overgangen mellom det periodiske potensialene og sidekantene, og ligne på tidsutviklingen i en uendelig brønn."
   ]
  },
  {
   "cell_type": "code",
   "execution_count": null,
   "metadata": {},
   "outputs": [],
   "source": [
    "eps, Psi, q, v, c= getPsi(f, 20, 50, res=10, Nw = 20)\n",
    "timeEvolve(Psi, q, v, c, numFrames = 150, tRes = 0.1)"
   ]
  }
 ],
 "metadata": {
  "kernelspec": {
   "display_name": "Python 3",
   "language": "python",
   "name": "python3"
  },
  "language_info": {
   "codemirror_mode": {
    "name": "ipython",
    "version": 3
   },
   "file_extension": ".py",
   "mimetype": "text/x-python",
   "name": "python",
   "nbconvert_exporter": "python",
   "pygments_lexer": "ipython3",
   "version": "3.7.2"
  }
 },
 "nbformat": 4,
 "nbformat_minor": 2
}
