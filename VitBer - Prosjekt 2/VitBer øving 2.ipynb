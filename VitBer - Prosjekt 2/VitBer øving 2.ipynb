{
 "cells": [
  {
   "cell_type": "markdown",
   "metadata": {},
   "source": [
    "# Prosjekt 2 VitBer\n",
    "Gruppe 49: Martin Johnsrud, Hans Giil, Eirik Høydalsvik"
   ]
  },
  {
   "cell_type": "code",
   "execution_count": null,
   "metadata": {},
   "outputs": [],
   "source": [
    "%%javascript\n",
    "MathJax.Hub.Config({\n",
    "  TeX: { equationNumbers: { autoNumber: \"AMS\" } }\n",
    "});"
   ]
  },
  {
   "cell_type": "markdown",
   "metadata": {},
   "source": [
    "### Teori\n",
    "(Her er alltid $j$ indeks for $x$, mens $k$ er ineks for energier)\n",
    "\n",
    "Vi skal lage en algoritme som tar i et potensialet $V(x)$, hvor vi antatr $V(x) = \\infty, x \\in [-\\infty, 0> \\cup <L, \\infty]$, mens det kan ha en virkårlig form i intervallet $I = [0, L>$. $I$ Diskretiseres opp i $n$ delintervaller, $\\{I_j\\}_{j = 1} ^ {n}$, med lengder på $\\Delta x = L / (n + 1)$. Vi diskretiserer derreter potensialet ved å sette $V_j = V(\\Delta x \\cdot j), \\, j = 1, 2, ... n$ og grensebetingelsene $V_0 = V_{n+1} = \\infty$, slik at vi har en vektor ${\\vec V} = [V_1, V_2, ... V_{n + 1}]$. Den tidsuavhengige Shrödingerligningen i 1D, TUSL, er gitt ved \n",
    "\n",
    "$$ \\hat H \\psi(x) =  \\Big( \\frac{-\\hbar^2}{2m} \\frac{\\partial^2}{\\partial x^2} + \\hat V\\Big) \\psi(x) = E \\psi(x) $$\n",
    "\n",
    "Vi diskretiserer $\\psi(x)$ på samme måten, og lar $\\psi_j = \\psi(\\Delta x \\cdot j),\\, \\psi_0 = \\psi_{n+1} = 0$ som gir vektoren $\\vec \\psi$. Hamiltonoperatoren tilnærmes med matrisen $\\mathbb{H} = [H_{j, k}]$, som er tri-diagonal, slik at\n",
    "\n",
    "$$\n",
    "\\mathbb{H}=\n",
    "\\begin{pmatrix}\n",
    "    H_{1, 1} & H_{1, 2} & 0        & 0          & \\dots      & 0            \\\\[1mm]\n",
    "    H_{2, 1} & H_{2, 2} & H_{2, 3} & 0          & \\dots      & \\vdots       \\\\[1mm]\n",
    "    0        & H_{3, 2} & \\ddots   & \\ddots     & 0          & 0            \\\\[1mm]\n",
    "    0        & 0        & \\ddots   & \\ddots     & H_{n-1, n} & 0            \\\\[1mm]\n",
    "    \\vdots   & \\vdots   & 0        & H_{n, n-1} & H_{n, n}   & H_{n, n+1}   \\\\[1mm]\n",
    "    0        & \\dots    & 0        & 0          & H_{n+1, n} & H_{n+1, n+1} \\\\[1mm]\n",
    " \\end{pmatrix}\n",
    "$$\n",
    "\n",
    "hvor $H_{j, j} = \\frac{\\hbar^2}{m(\\Delta x)^2} + V_j$, og $H_{j, j\\pm 1} = \\frac{-\\hbar^2}{2m(\\Delta x)^2}$. TUSL kan da aproskimeres som et egenverdiproblem,\n",
    "\n",
    "$$ \\mathbb{H} \\vec \\psi_k = E_k \\vec \\psi_k$$\n",
    "\n",
    "Dette gir $n$ forskjellige egenverdier $E_j$, med tilhørende egenvektorer $\\vec \\psi_k = \\psi_{j, k}$, hvor den  som er en aproksimasjon av egenfunksjonen til den . Derreter kan vi tidsutvikle en vilkårilg starttilstand $\\Psi (x, 0)$. Denne starttilstanden aproksimeres som en superposisjonen av egenvektorene, \n",
    "\n",
    "$$\\Psi_j = \\sum_{k = 1}^{n} c_{k} \\psi_{j, k} \\exp(-i E_k t / \\hbar),$$\n",
    "\n",
    "eller med matrisenotasjon $\\psi = [\\psi_{j, k}], \\, \\vec c = [c_1, c_2, ... c_{n+1}]$ blir det $\\vec \\Psi(t) = \\psi (\\vec c \\cdot \\exp(i t / \\hbar \\vec E)) $. $\\vec c$ finnes ved $c_j = \\sum_{j = 1}^{n + 1} \\psi_{j, k} \\Psi_j$, eller $\\vec c = \\vec \\Psi^T \\psi$ "
   ]
  },
  {
   "cell_type": "markdown",
   "metadata": {},
   "source": [
    "### Dimesjonsløshet\n",
    "\n",
    "Sånn Shcrödingerlingingen står nå, vår man veldig små tall i bergeningene. Dette kan føre til flyttallfeil. VVi innfører derfor de dimesjonsløse størrelsene $ q = x / L $, $ \\epsilon = E / (\\hbar^2 / 2mL^2) $ og $ \\hat \\nu = \\hat V / (\\hbar^2 / 2mL^2) $. Siden\n",
    "\n",
    "$$ \\frac{\\partial^2}{\\partial q^2} \\psi(q) = \\Big( \\frac{\\partial x}{\\partial q} \\frac{\\partial}{\\partial x} \\Big)^2 \\psi(x)= L^2 \\frac{\\partial^2}{\\partial x^2} \\psi(x), $$\n",
    "\n",
    "kan vi ved å multiplisere med $2mL^2 / \\hbar^2 $ på begge sider av Schrödingerligningen skrive den om til\n",
    "\n",
    "\\begin{equation}\n",
    "    \\label{TUSL}\n",
    "    \\Big(\\hat \\nu - \\frac{\\partial^2}{\\partial q^2} \\Big) \\psi = \\epsilon \\psi\n",
    "\\end{equation}\n",
    "\n",
    "Dette gjør at de nye elementene i $ \\mathbb{H} $ matrisen blir $ H_{j, j} = 2 / (\\Delta q)^2 + \\hat \\nu$ og $ H_{j, j \\pm 1} = - 1 / (\\Delta q)^2 $"
   ]
  },
  {
   "cell_type": "markdown",
   "metadata": {},
   "source": [
    "**Notasjon**\n",
    "\n",
    "$L =$ `L`  \n",
    "$\\Delta q$ = `deltaq`  \n",
    "$n$ = `n`   \n",
    "$\\nu(q) =$ `vKont(q)`  \n",
    "$\\vec \\nu$ = `v`  \n",
    "$\\epsilon_k =$ `eps[k]`  \n",
    "$\\psi = $ `psi[j][k]`    \n",
    "$\\vec \\psi_k =$ `psi[:, k]`  \n",
    "$\\Psi(x, 0) = $ `f(x)`  \n",
    "$\\vec \\Psi(t) = $ `Psi[j](t)`  \n",
    "$\\mathbb{H} = $ `H[j][k]`  "
   ]
  },
  {
   "cell_type": "markdown",
   "metadata": {},
   "source": [
    "Løser (1) numerisk, som beskrevet i teorien. Returnerer $\\epsilon$ og $\\psi$."
   ]
  },
  {
   "cell_type": "code",
   "execution_count": null,
   "metadata": {},
   "outputs": [],
   "source": [
    "import matplotlib as mpl\n",
    "import matplotlib.pyplot as plt\n",
    "import scipy.linalg as la\n",
    "import numpy as np\n",
    "from numpy import pi\n",
    "\n",
    "def solveTUSL(V, n):\n",
    "    \n",
    "    # Hjj are diagonal values, HOD are of the diagonal\n",
    "    deltaq = 1 / (n + 1)\n",
    "    Hjj = 2 / deltaq**2 * np.ones(n) + V\n",
    "    HOD= -1 / deltaq**2 * np.ones(n - 1)\n",
    "    return la.eigh_tridiagonal(Hjj, HOD)"
   ]
  },
  {
   "cell_type": "markdown",
   "metadata": {},
   "source": [
    "Lager en krystall med `Nw` brønner med dybde `v0` (anntas negativ). returnerer $\\epsilon,\\, \\psi,\\, \\nu,\\, n$  og $L$. `L` blir beregnet slik at brønnene får bredde `wL` meter."
   ]
  },
  {
   "cell_type": "code",
   "execution_count": null,
   "metadata": {},
   "outputs": [],
   "source": [
    "\n",
    "def makeChrystal(Nw, v0):\n",
    "    n = 1000 # Oppløsning\n",
    "    w = 10   # Bredde mellom brønner som anndel av Length\n",
    "    b = 3    # Avstand mellom brønner\n",
    "    B = 10   # Bredde på sidene\n",
    "    wL = 1e-10 # Bredden på brønn i meter\n",
    "    Length = 2 * B * w + Nw * w  # Lengde av hele modellen\n",
    "    if Nw > 1:\n",
    "        Length += (Nw - 1) * b\n",
    "\n",
    "    v = np.zeros(n * B * w // Length)\n",
    "    if Nw:\n",
    "        v = np.concatenate((v, v0 * np.ones(n * w // Length)))\n",
    "        \n",
    "    for i in range(Nw - 1):\n",
    "        v = np.concatenate((v, np.zeros(n * b // Length), v0 * np.ones(n * w // Length)))\n",
    "    v = np.concatenate((v, np.zeros(n * B * w // Length) // Length))\n",
    "\n",
    "    n = len(v)   # Forsikrer at v og x har samme lengde\n",
    "    x = np.linspace(0, 1, n)\n",
    "    eps, phi = solveTUSL(v, n)\n",
    "    L = Length * wL / w\n",
    "    return eps, phi, v, n, L"
   ]
  },
  {
   "cell_type": "markdown",
   "metadata": {},
   "source": [
    "Plotter potensialbrønnen, `l` energiegenverdier ($\\epsilon_k$) og de tilhørende egenvektorene $\\vec \\psi_k$. Venstre y-akse angir verider for $\\epsilon$, mens høyre gir verdier for potensialbrønnen $\\nu$. "
   ]
  },
  {
   "cell_type": "code",
   "execution_count": null,
   "metadata": {},
   "outputs": [],
   "source": [
    "def plotEigenfunc(phi, V, x, l, eps, epsRange=(0, 0), legend=True):\n",
    "    \n",
    "    font = {'family' : 'serif',\n",
    "        'weight' : 'normal',\n",
    "        'size'   : 25}\n",
    "    plt.rcParams['mathtext.fontset'] = 'dejavuserif'\n",
    "    mpl.rc('font', **font)\n",
    "    \n",
    "    fig, ax1 = plt.subplots(1, 1, figsize=(20, 10))\n",
    "    \n",
    "    inf = 1e10        # Alle vet at uendelig er ca 10 milliarder\n",
    "    V = np.concatenate(([inf], V, [inf]))\n",
    "    x = np.linspace(0, 1, len(V))\n",
    "    \n",
    "    # Inneholder Line2D elementer som viser legend hvordan linja ser ut\n",
    "    legendElement = [0] * (l + 1)\n",
    "    \n",
    "    ax1.set_xlabel(\"$q$\", fontsize=50)\n",
    "    ax1.set_ylabel(\"$\\epsilon $\", fontsize=50)\n",
    "    labels =  [0] * (l + 1)\n",
    "    labels[0] = \"$ \\\\nu (q)$\"\n",
    "    ax2 = ax1.twinx()\n",
    "    legendElement[0], = ax2.plot(x, V, color=\"Black\")\n",
    "    ax2.set_ylabel(\"$\\\\nu$\", fontsize=50)\n",
    "    scalePhi = (eps[1] - eps[0]) / np.max(phi)\n",
    "\n",
    "    for i in range(l):\n",
    "        legendElement[1 + i], = ax1.plot(x[1: -1], phi[:, i] * scalePhi + eps[i] * np.ones_like(x[1: -1]))\n",
    "        ax1.plot(x, eps[i] * np.ones_like(x), \"--\",  color= legendElement[1 + i].get_color())\n",
    "        labels[1 + i] = \"$\\epsilon_\" + str(i + 1) + \"$\"\n",
    "    \n",
    "    if np.max(V[1:-1]) == np.min(V[1:-1]):\n",
    "        ax1.set_ylim((epsRange[0] * 0.2, epsRange[1] * 1.2))\n",
    "        ax2.set_ylim((epsRange[0] * 0.2, epsRange[1] * 1.2))\n",
    "        \n",
    "    else:\n",
    "        ax1.set_ylim(epsRange)\n",
    "        ax2.set_ylim(np.min(V[1:-1]) * 1.1, -np.min(V[1:-1]) * 1.1)\n",
    "    \n",
    "    if legend: \n",
    "        ax2.legend(legendElement[:][:l + 1], labels[:l + 1], fontsize=20)\n",
    "    \n",
    "    plt.show()"
   ]
  },
  {
   "cell_type": "markdown",
   "metadata": {},
   "source": [
    "Konverterer fra den enhetsløse variablen $\\epsilon$ til $E$, og gir verdier i elektronvolt eller joule."
   ]
  },
  {
   "cell_type": "code",
   "execution_count": null,
   "metadata": {},
   "outputs": [],
   "source": [
    "def EJ(eps, L):\n",
    "    return eps*(1.0545e-34)**2 / (9.11e-31 * L**2)\n",
    "\n",
    "def EeV(eps, L):\n",
    "    return eps*(1.0545e-34)**2 /  (1.6e-19 * 9.11e-31 * L**2)"
   ]
  },
  {
   "cell_type": "markdown",
   "metadata": {},
   "source": [
    "## Oppgave 1: Partikkel i boks"
   ]
  },
  {
   "cell_type": "code",
   "execution_count": null,
   "metadata": {},
   "outputs": [],
   "source": [
    "v01 = -2000\n",
    "\n",
    "eps1, phi1, v1, x1, L1 = makeChrystal(0, v01)\n",
    "\n",
    "l1 = 3\n",
    "plotEigenfunc(phi1, v1, x1, l1, eps1, (- eps1[l1 - 1], eps1[l1 - 1]* 1.5))"
   ]
  },
  {
   "cell_type": "markdown",
   "metadata": {},
   "source": [
    "### Energiegenverdier\n",
    "\n",
    "Den analytiske løsningen for energien til en partikkel i boks er \n",
    "\n",
    "$$ \\epsilon_k = \\frac{2mL^2}{\\hbar^2} E_k = k^2 \\pi^2. $$\n",
    "\n",
    "Under printes både numeriske og analytisk beregnet dimensjonsløs energi, og man kan tydlig se at de stemmer godt overens."
   ]
  },
  {
   "cell_type": "code",
   "execution_count": null,
   "metadata": {},
   "outputs": [],
   "source": [
    "def epsExact(k):\n",
    "    return (k * np.pi)**2\n",
    "\n",
    "precision = 6\n",
    "tableWidth = 15\n",
    "\n",
    "print(\"Energies:\")\n",
    "print(\"Numerisk:\".ljust(tableWidth), \"Analytisk:\".ljust(tableWidth), \"Relativ feil:\".ljust(tableWidth))\n",
    "\n",
    "for i in range(l1):\n",
    "    print((\"{:.{prec}e}\").format(eps1[i], prec=precision).ljust(tableWidth),\\\n",
    "          (\"{:.{prec}e}\").format(epsExact(i + 1), prec=precision).ljust(tableWidth),\\\n",
    "          (\"{:.{prec}e}\").format((epsExact(i + 1) - eps1[i]) / epsExact(i + 1), prec=precision).ljust(tableWidth))"
   ]
  },
  {
   "cell_type": "markdown",
   "metadata": {},
   "source": [
    "### Ortonormalitet og fullstendig sett\n",
    "\n",
    "Vi kan se her at opp til en feil av størrelsesorden $10^{-10}$ er vektorene $ \\vec \\psi_k $ ortonormale, altså er $\\vec \\psi_i \\cdot \\vec \\psi_j = \\delta_{i, j}$, eller $\\psi_{j, k} \\cdot \\psi_{j, k}^T = \\mathbb{I}$, identitetsmatrisen, som sjekkes i koden under. Dette viser også at $\\psi_{j, k}$ er inverterbar, som betyr at den er en basis til $ \\mathbb{R}^n $, og dermed også et fullstendig sett."
   ]
  },
  {
   "cell_type": "code",
   "execution_count": null,
   "metadata": {},
   "outputs": [],
   "source": [
    "np.set_printoptions(precision=2)\n",
    "\n",
    "p = phi1 @ phi1.T\n",
    "print(p)\n",
    "\n",
    "# Sjekker om diagonalen er nær 1, og resten nær 0\n",
    "tol = 10e-10\n",
    "i = 0\n",
    "while(i < len(p[0]) and p[i, i] - 1 < tol and np.sum(abs(p[i,:i:])) < tol):\n",
    "    i += 1\n",
    "    \n",
    "print(\"\\nFeil innenfor toleransen: \", i == len(p))"
   ]
  },
  {
   "cell_type": "markdown",
   "metadata": {},
   "source": [
    "## Oppgave 2: Atomer"
   ]
  },
  {
   "cell_type": "code",
   "execution_count": null,
   "metadata": {},
   "outputs": [],
   "source": [
    "v02 = -2000\n",
    "\n",
    "eps2, phi2, v2, x2, L2 = makeChrystal(1, v02)\n",
    "l2 = 3\n",
    "plotEigenfunc(phi2, v2, x2, l2, eps2, (eps2[0]*1.2, -eps2[0]*1.2))\n",
    "\n",
    "for i in range(l1):\n",
    "    print(EeV(eps2[i], L2))"
   ]
  },
  {
   "cell_type": "markdown",
   "metadata": {},
   "source": [
    "## Oppgave 3: Molekyler"
   ]
  },
  {
   "cell_type": "code",
   "execution_count": null,
   "metadata": {},
   "outputs": [],
   "source": [
    "v03 = -2000\n",
    "\n",
    "eps3, phi3, v3, x3, L3 = makeChrystal(2, v03)\n",
    "\n",
    "l3 = 3\n",
    "plotEigenfunc(phi3, v3, x3, l3, eps3, (eps3[0] * 1.2, -eps3[0]* 1.2))\n",
    "\n",
    "for i in range(l1):\n",
    "    print(EeV(eps3[i], L3))"
   ]
  },
  {
   "cell_type": "markdown",
   "metadata": {},
   "source": [
    "## Oppgave 4: Krystaller"
   ]
  },
  {
   "cell_type": "code",
   "execution_count": null,
   "metadata": {},
   "outputs": [],
   "source": [
    "v04 = -2000\n",
    "\n",
    "eps4, phi4, v4, x4, L4 = makeChrystal(10, v04)\n",
    "\n",
    "l4 = 8\n",
    "plotEigenfunc(phi4, v4, x4, l4, eps4, (eps4[0] * 1.2, -eps4[0]* 1.2), legend=False)\n",
    "\n",
    "for i in range(l4):\n",
    "    print(EeV(eps4[i], L4))"
   ]
  },
  {
   "cell_type": "markdown",
   "metadata": {},
   "source": [
    "## Bonus: Tidsutvikling"
   ]
  },
  {
   "cell_type": "code",
   "execution_count": null,
   "metadata": {},
   "outputs": [],
   "source": []
  },
  {
   "cell_type": "markdown",
   "metadata": {},
   "source": [
    "## Lekestua"
   ]
  },
  {
   "cell_type": "code",
   "execution_count": null,
   "metadata": {},
   "outputs": [],
   "source": [
    "def vKont(x):\n",
    "    return 1 / (x + 0.5)\n",
    "\n",
    "n = 1000\n",
    "x = np.linspace(0, 1, n)\n",
    "vL = vKont(x)\n",
    "v0L = -500\n",
    "vL = np.concatenate((np.ones(n // 4) * v0L, np.zeros(n - n // 4)))\n",
    "\n",
    "EL, phiL = solveTUSL(vL, n)\n",
    "l = 4\n",
    "plotEigenfunc(phiL, vL, x, l, EL, (v0L, -v0L))"
   ]
  }
 ],
 "metadata": {
  "kernelspec": {
   "display_name": "Python 3",
   "language": "python",
   "name": "python3"
  },
  "language_info": {
   "codemirror_mode": {
    "name": "ipython",
    "version": 3
   },
   "file_extension": ".py",
   "mimetype": "text/x-python",
   "name": "python",
   "nbconvert_exporter": "python",
   "pygments_lexer": "ipython3",
   "version": "3.7.2"
  }
 },
 "nbformat": 4,
 "nbformat_minor": 2
}
