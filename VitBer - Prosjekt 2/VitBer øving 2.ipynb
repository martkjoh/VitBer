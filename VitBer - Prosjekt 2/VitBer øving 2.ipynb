{
 "cells": [
  {
   "cell_type": "markdown",
   "metadata": {},
   "source": [
    "# Prosjekt 2 VitBer\n",
    "Gruppe 49: Martin Johnsrud, Hans Giil, Eirik Høydalsvik"
   ]
  },
  {
   "cell_type": "code",
   "execution_count": null,
   "metadata": {},
   "outputs": [],
   "source": [
    "%%javascript\n",
    "MathJax.Hub.Config({\n",
    "  TeX: { equationNumbers: { autoNumber: \"AMS\" } }\n",
    "});"
   ]
  },
  {
   "cell_type": "markdown",
   "metadata": {},
   "source": [
    "### Teori\n",
    "(Her er alltid $j$ indeks for $x$, mens $k$ er ineks for energier)\n",
    "\n",
    "Vi skal lage en algoritme som tar i et potensialet $V(x)$, hvor vi antatr $V(x) = \\infty, x \\in [-\\infty, 0> \\cup <L, \\infty]$, mens det kan ha en virkårlig form i intervallet $I = [0, L>$. $I$ Diskretiseres opp i $n$ delintervaller, $\\{I_j\\}_{j = 1} ^ {n}$, med lengder på $\\Delta x = L / (n + 1)$. Vi diskretiserer derreter potensialet ved å sette $V_j = V(\\Delta x \\cdot j), \\, j = 1, 2, ... n$ og grensebetingelsene $V_0 = V_{n+1} = \\infty$, slik at vi har en vektor ${\\vec V} = [V_1, V_2, ... V_{n + 1}]$. Den tidsuavhengige Shrödingerligningen i 1D, TUSL, er gitt ved \n",
    "\n",
    "$$ \\hat H \\psi(x) =  \\Big( \\frac{-\\hbar^2}{2m} \\frac{\\partial^2}{\\partial x^2} + \\hat V\\Big) \\psi(x) = E \\psi(x) $$\n",
    "\n",
    "Vi diskretiserer $\\psi(x)$ på samme måten, og lar $\\psi_j = \\psi(\\Delta x \\cdot j),\\, \\psi_0 = \\psi_{n+1} = 0$ som gir vektoren $\\vec \\psi$. Hamiltonoperatoren tilnærmes med matrisen $\\mathbb{H} = [H_{j, k}]$, som er tri-diagonal, slik at\n",
    "\n",
    "$$\n",
    "\\mathbb{H}=\n",
    "\\begin{pmatrix}\n",
    "    H_{1, 1} & H_{1, 2} & 0        & 0          & \\dots      & 0            \\\\[1mm]\n",
    "    H_{2, 1} & H_{2, 2} & H_{2, 3} & 0          & \\dots      & \\vdots       \\\\[1mm]\n",
    "    0        & H_{3, 2} & \\ddots   & \\ddots     & 0          & 0            \\\\[1mm]\n",
    "    0        & 0        & \\ddots   & \\ddots     & H_{n-1, n} & 0            \\\\[1mm]\n",
    "    \\vdots   & \\vdots   & 0        & H_{n, n-1} & H_{n, n}   & H_{n, n+1}   \\\\[1mm]\n",
    "    0        & \\dots    & 0        & 0          & H_{n+1, n} & H_{n+1, n+1} \\\\[1mm]\n",
    " \\end{pmatrix}\n",
    "$$\n",
    "\n",
    "hvor $H_{j, j} = \\frac{\\hbar^2}{m(\\Delta x)^2} + V_j$, og $H_{j, j\\pm 1} = \\frac{-\\hbar^2}{2m(\\Delta x)^2}$. TUSL kan da aproskimeres som et egenverdiproblem,\n",
    "\n",
    "$$ \\mathbb{H} \\vec \\psi_k = E_k \\vec \\psi_k$$\n",
    "\n",
    "Dette gir $n$ forskjellige egenverdier $E_j$, med tilhørende egenvektorer $\\vec \\psi_k = \\psi_{j, k}$, hvor den  som er en aproksimasjon av egenfunksjonen til den . Derreter kan vi tidsutvikle en vilkårilg starttilstand $\\Psi (x, 0)$. Denne starttilstanden aproksimeres som en superposisjonen av egenvektorene, \n",
    "\n",
    "$$\\Psi_j = \\sum_{k = 1}^{n} c_{k} \\psi_{j, k} \\exp(-i E_k t / \\hbar),$$\n",
    "\n",
    "eller med matrisenotasjon $\\psi = [\\psi_{j, k}], \\, \\vec c = [c_1, c_2, ... c_{n+1}]$ blir det $\\vec \\Psi(t) = \\psi (\\vec c \\cdot \\exp(i t / \\hbar \\vec E)) $. $\\vec c$ finnes ved $c_j = \\sum_{j = 1}^{n + 1} \\psi_{j, k} \\Psi_j$, eller $\\vec c = \\vec \\Psi^T \\psi$ "
   ]
  },
  {
   "cell_type": "markdown",
   "metadata": {},
   "source": [
    "### Dimesjonsløshet\n",
    "\n",
    "Sånn Shcrödingerlingingen står nå, vår man veldig små tall i bergeningene. Dette kan føre til flyttallfeil. Vi innfører derfor de dimesjonsløse størrelsene $ q = x / \\omega $, $ \\epsilon = E / (\\hbar^2 / 2m\\omega^2) $ og $ \\hat \\nu = \\hat V / (\\hbar^2 / 2m\\omega^2) $, hvor $\\omega$ er den karikteristiske størrelsen bredden til brønnen. Hele modellen får dermed en lengde $L^* = L / \\omega$. Siden\n",
    "\n",
    "$$ \\frac{\\partial^2}{\\partial q^2} \\psi(q) = \\Big( \\frac{\\partial x}{\\partial q} \\frac{\\partial}{\\partial x} \\Big)^2 \\psi(x)= \\omega^2 \\frac{\\partial^2}{\\partial x^2} \\psi(x), $$\n",
    "\n",
    "kan vi ved å multiplisere med $2m\\omega^2 / \\hbar^2 $ på begge sider av Schrödingerligningen skrive den om til\n",
    "\n",
    "\\begin{equation}\n",
    "    \\label{TUSL}\n",
    "    \\Big(\\hat \\nu - \\frac{\\partial^2}{\\partial q^2} \\Big) \\psi = \\epsilon \\psi\n",
    "\\end{equation}\n",
    "\n",
    "Dette gjør at de nye elementene i $ \\mathbb{H} $ matrisen blir $ H_{j, j} = 2 / (\\Delta q)^2 + \\hat \\nu$ og $ H_{j, j \\pm 1} = - 1 / (\\Delta q)^2$, hvor $\\Delta q = L^* / (n + 1)$."
   ]
  },
  {
   "cell_type": "markdown",
   "metadata": {},
   "source": [
    "**Notasjon**\n",
    "\n",
    "$L^* =$ `LStar`  \n",
    "$\\Delta q$ = `deltaq`  \n",
    "$n$ = `n`   \n",
    "$\\nu(q) =$ `vKont(q)`  \n",
    "$\\vec \\nu$ = `v`  \n",
    "$\\epsilon_k =$ `eps[k]`  \n",
    "$\\psi = $ `psi[j][k]`    \n",
    "$\\vec \\psi_k =$ `psi[:, k]`  \n",
    "$\\Psi(x, 0) = $ `f(x)`  \n",
    "$\\vec \\Psi(t) = $ `Psi[j](t)`  \n",
    "$\\mathbb{H} = $ `H[j][k]`  "
   ]
  },
  {
   "cell_type": "markdown",
   "metadata": {},
   "source": [
    "Løser (1) numerisk, som beskrevet i teorien. Returnerer $\\epsilon$ og $\\psi$."
   ]
  },
  {
   "cell_type": "code",
   "execution_count": null,
   "metadata": {},
   "outputs": [],
   "source": [
    "import matplotlib as mpl\n",
    "from matplotlib import cm\n",
    "import matplotlib.pyplot as plt\n",
    "import scipy.linalg as la\n",
    "import numpy as np\n",
    "from numpy import pi\n",
    "\n",
    "font = {'family' : 'serif', \n",
    "        'weight' : 'normal', \n",
    "        'size'   : 25}\n",
    "plt.rcParams['mathtext.fontset'] = 'dejavuserif'\n",
    "plt.rc(\"lines\", lw=2)\n",
    "plt.rc('font', **font)"
   ]
  },
  {
   "cell_type": "code",
   "execution_count": null,
   "metadata": {},
   "outputs": [],
   "source": [
    "def solveTUSL(v, LStar):\n",
    "    \n",
    "    # Hjj are diagonal values, HOD are of the diagonal\n",
    "    deltaq = LStar / (len(v) + 1)\n",
    "    Hjj = 2 / deltaq**2 * np.ones(len(v)) + v\n",
    "    HOD = -1 / deltaq**2 * np.ones(len(v) - 1)\n",
    "    return la.eigh_tridiagonal(Hjj, HOD)"
   ]
  },
  {
   "cell_type": "markdown",
   "metadata": {},
   "source": [
    "Lager en krystall med `Nw` brønner med dybde `v0` (anntas negativ). returnerer $\\epsilon,\\, \\psi,\\, \\nu,\\,$ og $q$. `w` er antall punkter i hver brønn, `b` er antall punkter i mellom brønnen og `B` antall punkter på sidene, delt på `w`."
   ]
  },
  {
   "cell_type": "code",
   "execution_count": null,
   "metadata": {},
   "outputs": [],
   "source": [
    "def makeChrystal(Nw, v0, w=10, b=3, B=10):\n",
    "    v = np.zeros(B * w)\n",
    "    if Nw:\n",
    "        v = np.concatenate((v, v0 * np.ones(w)))    \n",
    "    for i in range(Nw - 1):\n",
    "        v = np.concatenate((v, np.zeros(b), v0 * np.ones(w)))\n",
    "    v = np.concatenate((v, np.zeros(B * w)))\n",
    "\n",
    "    LStar = len(v) / w\n",
    "    q = np.linspace(0, LStar, len(v))\n",
    "    eps, psi = solveTUSL(v, LStar)\n",
    "    return eps, psi, v, q"
   ]
  },
  {
   "cell_type": "markdown",
   "metadata": {},
   "source": [
    "Plotter potensialbrønnen, `l` energiegenverdier ($\\epsilon_k$) og de tilhørende egenvektorene $\\vec \\psi_k$. Venstre y-akse angir verider for $\\epsilon$, mens høyre gir verdier for potensialbrønnen $\\nu$. "
   ]
  },
  {
   "cell_type": "code",
   "execution_count": null,
   "metadata": {},
   "outputs": [],
   "source": [
    "def plotEigenfunc(eps, psi, v, q, l,  epsRange=(0, 0), legend=True, showWave=True, waveSize=0):\n",
    "\n",
    "    fig, ax1 = plt.subplots(1, 1, figsize=(20, 10))\n",
    "    \n",
    "    inf = 1e10  # Alle vet at uendelig er ca 10 milliarder\n",
    "    v = np.concatenate(([inf], v, [inf]))\n",
    "    q = np.concatenate(([0], q, [q[-1]]))\n",
    "    \n",
    "    # Inneholder Line2D elementer som viser legend hvordan linja ser ut\n",
    "    legendElement = [0] * (l + 1)\n",
    "    ax1.set_xlabel(\"$q$\", fontsize=50)\n",
    "    ax1.set_ylabel(\"$\\\\epsilon$\", fontsize=50)\n",
    "    labels =  [0] * (l + 1)\n",
    "    legendElement[0], = ax1.plot(q, v, color=\"Black\")\n",
    "    labels[0] = \"$ \\\\nu (q)$\"\n",
    "\n",
    "    if showWave: \n",
    "        if waveSize: scalePsi = waveSize\n",
    "        else: scalePsi = (epsRange[1] - epsRange[0]) / (5 * np.max(psi))\n",
    "    \n",
    "    for i in range(l):\n",
    "        legendElement[1 + i], = ax1.plot(q[1: -1], psi[:, i] * scalePsi + eps[i] * np.ones_like(q[1: -1]), \n",
    "                                         color=cm.viridis(i/l))\n",
    "        ax1.plot(q, eps[i] * np.ones_like(q), \"--\",  color= legendElement[1 + i].get_color())\n",
    "        labels[1 + i] = \"$\\epsilon_\" + str(i + 1) + \"$\"\n",
    "    \n",
    "    ax1.set_ylim(epsRange)\n",
    "    ax1.set_ylim(epsRange)\n",
    "    \n",
    "    if legend:\n",
    "        ax1.legend(legendElement[:][:l + 1], labels[:l + 1], fontsize=20)\n",
    "    \n",
    "    plt.show()"
   ]
  },
  {
   "cell_type": "markdown",
   "metadata": {},
   "source": [
    "Konverterer fra den dimesjonsløse variablen $\\epsilon$ til $E$, og gir verdier i elektronvolt eller joule."
   ]
  },
  {
   "cell_type": "code",
   "execution_count": null,
   "metadata": {},
   "outputs": [],
   "source": [
    "hbar = 1.0545e-34\n",
    "m_e = 9.11e-31\n",
    "w = 5e-10\n",
    "eV = 1.6e-19\n",
    "\n",
    "def EJ(eps):\n",
    "    return eps * hbar**2 / (m_e * w**2)\n",
    "\n",
    "def EeV(eps):\n",
    "    return eps * hbar**2 /  (eV * m_e * w**2)"
   ]
  },
  {
   "cell_type": "markdown",
   "metadata": {},
   "source": [
    "## Oppgave 1: Partikkel i boks"
   ]
  },
  {
   "cell_type": "code",
   "execution_count": null,
   "metadata": {},
   "outputs": [],
   "source": [
    "eps1, psi1, v1, q1 = makeChrystal(0, 0)\n",
    "l1 = 3\n",
    "plotEigenfunc(eps1, psi1, v1, q1, l1, (-eps1[0], eps1[l1 - 1] * 1.4))"
   ]
  },
  {
   "cell_type": "markdown",
   "metadata": {},
   "source": [
    "### Energiegenverdier\n",
    "\n",
    "Den analytiske løsningen for energien til en partikkel i boks er \n",
    "\n",
    "$$ \\epsilon_k = \\frac{2m\\omega^2}{\\hbar^2} E_k = \\Big(\\frac{k \\pi}{L^*}\\Big)^2. $$\n",
    "\n",
    "Under printes både numeriske og analytisk beregnet dimensjonsløs energi, og man kan tydlig se at de stemmer godt overens."
   ]
  },
  {
   "cell_type": "code",
   "execution_count": null,
   "metadata": {},
   "outputs": [],
   "source": [
    "def epsExact(k, LStar):\n",
    "    return (k * np.pi / LStar)**2\n",
    "\n",
    "precision = 6\n",
    "tableWidth = 15\n",
    "\n",
    "print(\"Energies:\")\n",
    "print(\"Numerisk:\".ljust(tableWidth), \"Analytisk:\".ljust(tableWidth), \"Relativ feil:\".ljust(tableWidth))\n",
    "\n",
    "for i in range(l1):\n",
    "    print((\"{:.{prec}e}\").format(eps1[i], prec=precision).ljust(tableWidth),\\\n",
    "          (\"{:.{prec}e}\").format(epsExact(i + 1, q1[-1]), prec=precision).ljust(tableWidth),\\\n",
    "          (\"{:.{prec}e}\").format((epsExact(i + 1, q1[-1]) - eps1[i]) / epsExact(i + 1, q1[-1]), \n",
    "                                 prec=precision).ljust(tableWidth))"
   ]
  },
  {
   "cell_type": "markdown",
   "metadata": {},
   "source": [
    "### Ortonormalitet og fullstendig sett\n",
    "\n",
    "Vi kan se her at opp til en feil av størrelsesorden $10^{-12}$ er vektorene $ \\vec \\psi_k $ ortonormale, altså er $\\vec \\psi_i \\cdot \\vec \\psi_j = \\delta_{i, j}$, eller $\\psi_{j, k} \\cdot \\psi_{j, k}^T = \\mathbb{I}$, identitetsmatrisen, som sjekkes i koden under. Dette viser også at $\\psi_{j, k}$ er inverterbar, som betyr at den er en basis til $ \\mathbb{R}^n $, og dermed også et fullstendig sett."
   ]
  },
  {
   "cell_type": "code",
   "execution_count": null,
   "metadata": {},
   "outputs": [],
   "source": [
    "np.set_printoptions(precision=2)\n",
    "\n",
    "p = psi1 @ psi1.T\n",
    "print(p)\n",
    "\n",
    "# Sjekker om diagonalen er nær 1, og resten nær 0\n",
    "tol = 10e-12\n",
    "i = 0\n",
    "while(i < len(p[0]) and p[i, i] - 1 < tol and np.sum(abs(p[i,:i:])) < tol): i += 1\n",
    "print(\"\\nFeil innenfor toleransen: \", i == len(p))"
   ]
  },
  {
   "cell_type": "markdown",
   "metadata": {},
   "source": [
    "## Oppgave 2: Atomer"
   ]
  },
  {
   "cell_type": "code",
   "execution_count": null,
   "metadata": {},
   "outputs": [],
   "source": [
    "v0 = -70\n",
    "l2 = 5\n",
    "eps2, psi2, v2, q2 = makeChrystal(1, v0, w=100, b=30)\n",
    "plotEigenfunc(eps2, psi2, v2, q2, l2, (eps2[0] * 1.2, -eps2[0] * 0.5))\n",
    "\n",
    "for i in range(l2):\n",
    "    print(EeV(eps2[i]))"
   ]
  },
  {
   "cell_type": "code",
   "execution_count": null,
   "metadata": {},
   "outputs": [],
   "source": [
    "from scipy.optimize import fsolve\n",
    "from numpy import tan,sqrt\n",
    "vn = - 70\n",
    "\n",
    "#Analytiske implisitte uttrykk for energien i symmetriske og antisymmetriske tilstander.\n",
    "funcSym = lambda epsn: tan(sqrt((epsn - vn))/2) - sqrt(( epsn)/(vn - epsn))\n",
    "funcASym = lambda epsn: tan(sqrt((epsn - vn))/2) + sqrt((vn - epsn)/epsn)\n",
    "\n",
    "#Grunntilstand:\n",
    "sol = fsolve(funcSym, -69)   #Gjetter en verdi for E som ligger i nærheten av de løsningene som ble funnet\n",
    "print(\"Grunntilstanden har energi: \", round(EeV(sol[0]), 2), \"eV\")\n",
    "\n",
    "#1.eksiterte:\n",
    "sol2 = fsolve(funcASym, -20)   #Gjetter en verdi for E som ligger i nærheten av de løsningene som ble funnet\n",
    "print(\"Første eksiterte tilstand har energi:\", round(EeV(sol2[0]), 2), \"eV\")\n",
    "\n",
    "#2.eksiterte :\n",
    "sol3 = fsolve(funcSym, -20)   #Gjetter en verdi for E som ligger i nærheten av de løsningene som ble funnet\n",
    "print(\"Første eksiterte tilstand har energi: \", round(EeV(sol3[0]), 2), \"eV\")"
   ]
  },
  {
   "cell_type": "markdown",
   "metadata": {},
   "source": [
    "## Oppgave 3: Molekyler\n",
    "To potensialbrønner kan brukes som en enkel modell for bindinger mellom to atomer, eksempelvis\n",
    "hydrogen og helium. Før bindingen beskrives hydrogenatomet som 1 potensialbrønn med et elektron i grunntilstand og Helium vil pga spinn degenerasjon beskrives som 1 potensialbrønn med 2 elektroner i grunntilstand. Bindingen mellom atomene beskrives med 2 potensialbrønner. Hydrogenbindingen beskrives med 2 elektroner i grunntilstand og heliumbindingen med 2 elektroner i grunntilstand og 2 elektroner i 1 eksiterte tilstand. Bindingsenergien settes lik differansen mellom elektronenes energi i atomet og i bindingen. \n",
    " \n",
    "Med potensialbrønner med bredde $\\omega = 1Å$, bredde mellom brønnene $b = 0.3Å$ og potensialbrønn med dybde på (???) ble grunntilstandsenergien til en enkel potensialbrønn $E_{1,0} = -19.42\\text{eV}$. Grunntilstandsenergien og 1 eksiterte tilstand for 2 potensialbrønner ble hennholdsvis $E_{2,0} = -19.49\\text{eV}$ og $E_{2,1} = -19.36\\text{eV}$. Bindingsenergien til hydrogen blir da $2*(E_{2,0} - E_{2,0}) = 0.14\\text{eV}$. Bindingsenergien for helium blir da $2*(2*E_{1,0} - E_{2,0} - E_{2,1}) = -0.12\\text{eV}$. Siden bindingsenergien for hydrogen er positiv sier modellen at hydrogen vil binnes til $H_2$, med negativ bindingsenergi vil heliumatomene ikke binde seg til $He_2$. Den 1.eksiterte tilstanden i bindingen er en antibinende orbital siden elektronene må få høyere energi for å binnes. Grunntilstanden er en bindende orbital siden det frigjøres energi når elektronene bindes. Dette samsvarer med virkeligheten hvor hydrogen lett binder seg til $H_2$ mens $He$ ikke binder seg.\n"
   ]
  },
  {
   "cell_type": "code",
   "execution_count": null,
   "metadata": {},
   "outputs": [],
   "source": [
    "l3 = 7\n",
    "eps3, psi3, v3, q3 = makeChrystal(2, v0)\n",
    "print(len(v3))\n",
    "plotEigenfunc(eps3, psi3, v3, q3, l3, (eps3[0] * 1.2, -eps3[0]*0.5))\n",
    "\n",
    "for i in range(l3):\n",
    "    print(eps3[i])"
   ]
  },
  {
   "cell_type": "markdown",
   "metadata": {},
   "source": [
    "## Oppgave 4: Krystaller\n",
    "En enkel modell for en 1D krystall er mange potensialbrønner plasert ved siden av hverandre.\n",
    "I oppgave 3 ble det observert at 2 potensialbrønner ga 6 bundne tilstander med par av energinivåer ved energiene til de bundne tilstandene til den enkle potensialbrønnen. Dersom antall brønner blir satt til $\\text{Nw} = 5$ blir det 15 bundede tilstander med 5 energinivåer i nærheten av hvert energinivå til den enkle potensialbrønnen. Med Nw antall brønner blir det altså 3 energibånd med Nw energinivåer i nærheten av hvert energinivå til den enkle potensialbrønn. \n",
    "\n",
    "Dersom hvert atom i krystallen har 4 elektroner vil det totalt være $4N_\\omega$ elektroner som med spin degenerasjon kan fylle  $2\\text{Nw}$ orbitaler. Dersom det er så lav temperatur at krystallen er i grunntilstand vil de to elektronene med mest energi befinne seg i energinivå nummer $N_\\omega$. Energinivået tilsvarer det øverste energinivået i bånd nummer 2 og vil for store verdier av Nw ha en energi $E = -13.18\\text{eV}$. Båndgapet, forskjellen i energi mellom tilstand $2N_\\omega$ og $2N_\\omega -1$ er $6.7\\text{eV}$. Siden båndgapet er større en $3\\text{eV}$ er krystallen en isolator og ikke en halvleder."
   ]
  },
  {
   "cell_type": "code",
   "execution_count": null,
   "metadata": {},
   "outputs": [],
   "source": [
    "k = 20\n",
    "l4 = k * 3 + 1\n",
    "eps4, psi4, v4, q4 = makeChrystal(k, -70)\n",
    "plotEigenfunc(eps4, psi4, v4, q4, l4, (eps4[0] * 1.2, -eps4[0]*0.5), legend=False, showWave=False)\n",
    "\n",
    "print(\"Båndgap 2-3:\".ljust(20),EeV(eps4[2*k]-eps4[2*k-1]))\n",
    "print(\"Båndbredde 1:\".ljust(20),EeV(eps4[k-1]-eps4[0]))\n",
    "print(\"Energinivå 2N_w:\".ljust(20), EeV(eps4[2*k-1]))"
   ]
  },
  {
   "cell_type": "markdown",
   "metadata": {},
   "source": [
    "## Bånbredde\n",
    "Under plottes båndbredde som en funksjon av antall brønner, $N_\\omega$. Breddene konvergerer raskt."
   ]
  },
  {
   "cell_type": "code",
   "execution_count": null,
   "metadata": {},
   "outputs": [],
   "source": [
    "Nw = 50\n",
    "deltaE = np.zeros((3, Nw - 1))\n",
    "listNw = np.arange(1, Nw)\n",
    "for i in range(1, Nw):\n",
    "    eps4, psi4, v4, q4 = makeChrystal(i, -70)\n",
    "    for j in range(3):\n",
    "        deltaE[j, i - 1] = EeV(eps4[(i*(j + 1) - 1)] - eps4[j*i]) "
   ]
  },
  {
   "cell_type": "code",
   "execution_count": null,
   "metadata": {},
   "outputs": [],
   "source": [
    "fig, ax = plt.subplots(1, 1, figsize=(15, 10))\n",
    "for i in range(3):\n",
    "    ax.plot(listK, deltaE[i], label=\"Båndbredde \" + str(i))\n",
    "    ax.plot([-5, k*2], deltaE[i, -1]*np.array([1, 1]), \"--k\")\n",
    "    \n",
    "ax.set_ylabel(\"$E / [\\\\mathrm{eV}]$\")\n",
    "ax.set_xlabel(\"$N_\\omega$\")\n",
    "ax.set_xlim(0, k)\n",
    "ax.set_ylim(0, np.max(deltaE)*1.2)\n",
    "plt.legend()\n",
    "plt.show()"
   ]
  },
  {
   "cell_type": "markdown",
   "metadata": {},
   "source": [
    "## Brochs teorem\n",
    "Absoluttkvadratet til bølgefunksjonen følger Blochs teorem, fordi den er på formen $sin(kx) u(x)$, der $u(x)$ er en funksjon som er periodisk med periode lik gitterkonstanten og k er bølgetallet til elektronet. Absoluttkvadratet er plottet nedenfor for de to første tilstandene.\n"
   ]
  },
  {
   "cell_type": "code",
   "execution_count": null,
   "metadata": {},
   "outputs": [],
   "source": [
    "k = 20\n",
    "l4 = 1\n",
    "eps4, psi4, v4, q4 = makeChrystal(k, -70)\n",
    "plotEigenfunc(eps4, psi4**2, v4, q4, l4, (eps4[0]*1.2, -eps4[0]*0.5), legend=False, showWave=True, waveSize=1500)"
   ]
  },
  {
   "cell_type": "markdown",
   "metadata": {},
   "source": [
    "## Bonus: Tidsutvikling\n",
    "Gitt en starttilstand diskretisert starttilstand $\\vec \\Psi, \\Psi_j = \\Psi(j \\Delta q, 0),$ en tidsutvikle denne ved å skrive den som \n",
    "\n",
    "$$ \\Psi_j = \\sum_{k = 1}^n c_k \\psi_{j, k} e^{-i \\epsilon_n t},\\, c_k = \\sum_{j = 1}^n \\psi_{j, k} \\Psi_j,$$\n",
    "\n",
    "eller i matrisenotasjon, \n",
    "\n",
    "$$\\vec \\Psi = \\psi (\\vec c \\circ \\exp ({-i \\vec \\epsilon t})),\\, \\vec c = \\psi^T \\vec \\Psi,$$\n",
    "\n",
    "hvor $\\circ$ er [elementvis multiplikasjon](https://en.wikipedia.org/wiki/Hadamard_product_(matrices)), ekvivalent med NumPy sin `*` operator. i denne oppgaven er \n",
    "\n",
    "$$\\Psi(x, 0) = (2 \\pi \\sigma^2)^{-\\frac{1}{4}} \\exp\\big(-\\frac{(q - q_0)^2}{4\\sigma^2} + ip_0(q - q_0))\\big)$$\n",
    "\n",
    "\n",
    "Hvor $p_0$ er forventet impuls."
   ]
  },
  {
   "cell_type": "markdown",
   "metadata": {},
   "source": [
    "$\\sigma^2 = $ `var`  \n",
    "$q_0 = $ `q0`  \n",
    "$p_0 = $ `p0`"
   ]
  },
  {
   "cell_type": "code",
   "execution_count": null,
   "metadata": {},
   "outputs": [],
   "source": [
    "def f(q, var, p0, q0= 0.5):\n",
    "    return (2 * np.pi * var) * np.exp(-(q - q0)**2 / (4*var) + 1j * p0 * (q - q0))\n",
    "\n",
    "def getPsi(f, var, p0, res=1000):\n",
    "    eps, psi, v, q = makeChrystal(1, 0, w=res, b=0, B=0)\n",
    "    c = psi.T @ f(q, var, p0)\n",
    "    return lambda t: psi @ (c * np.exp(-1j*eps*t))"
   ]
  },
  {
   "cell_type": "code",
   "execution_count": null,
   "metadata": {},
   "outputs": [],
   "source": [
    "from matplotlib.animation import FuncAnimation as anim\n",
    "from IPython.display import HTML\n",
    "\n",
    "Psi = getPsi(f, 0.0001, 0)\n",
    "fig, ax = plt.subplots(1, figsize=(15, 15))\n",
    "lim = np.max(abs(Psi(0))**2)\n",
    "numFrames = 10\n",
    "def animate(n):\n",
    "    ax.cla()\n",
    "    ax.set_ylim(0, lim)\n",
    "    t = n * 0.001\n",
    "    l = ax.plot(q, np.abs(Psi(t))**2)\n",
    "    return l\n",
    "\n",
    "a = anim(fig, animate, frames=numFrames, interval=80)\n",
    "plt.close(fig)\n",
    "HTML(a.to_jshtml())"
   ]
  },
  {
   "cell_type": "code",
   "execution_count": null,
   "metadata": {},
   "outputs": [],
   "source": [
    "from matplotlib.animation import FuncAnimation as anim\n",
    "from IPython.display import HTML\n",
    "\n",
    "Psi = getPsi(f, 0.01, 0)\n",
    "fig, ax = plt.subplots(1, figsize=(15, 15))\n",
    "lim = np.max(abs(Psi(0))**2)\n",
    "numFrames = 10\n",
    "def animate(n):\n",
    "    ax.cla()\n",
    "    ax.set_ylim(0, lim)\n",
    "    t = n * 0.001\n",
    "    l = ax.plot(q, np.abs(Psi(t))**2)\n",
    "    return l\n",
    "\n",
    "a = anim(fig, animate, frames=numFrames, interval=80)\n",
    "plt.close(fig)\n",
    "HTML(a.to_jshtml())"
   ]
  },
  {
   "cell_type": "code",
   "execution_count": null,
   "metadata": {},
   "outputs": [],
   "source": [
    "from matplotlib.animation import FuncAnimation as anim\n",
    "from IPython.display import HTML\n",
    "\n",
    "Psi = getPsi(f, 0.005, 50)\n",
    "fig, ax = plt.subplots(1, figsize=(15, 15))\n",
    "lim = np.max(abs(Psi(0))**2)\n",
    "numFrames = 20\n",
    "def animate(n):\n",
    "    ax.cla()\n",
    "    ax.set_ylim(0, lim)\n",
    "    t = n * 0.001\n",
    "    l = ax.plot(q, np.abs(Psi(t))**2)\n",
    "    return l\n",
    "\n",
    "a = anim(fig, animate, frames=numFrames, interval=80)\n",
    "plt.close(fig)\n",
    "HTML(a.to_jshtml())"
   ]
  }
 ],
 "metadata": {
  "kernelspec": {
   "display_name": "Python 3",
   "language": "python",
   "name": "python3"
  },
  "language_info": {
   "codemirror_mode": {
    "name": "ipython",
    "version": 3
   },
   "file_extension": ".py",
   "mimetype": "text/x-python",
   "name": "python",
   "nbconvert_exporter": "python",
   "pygments_lexer": "ipython3",
   "version": "3.7.2"
  }
 },
 "nbformat": 4,
 "nbformat_minor": 2
}
