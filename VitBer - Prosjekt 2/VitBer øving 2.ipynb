{
 "cells": [
  {
   "cell_type": "raw",
   "metadata": {},
   "source": [
    "# Prosjekt 2 VitBer\n",
    "Gruppe 49: Martin Johnsrud, Hans Giil, Eirik Høydalsvik"
   ]
  },
  {
   "cell_type": "markdown",
   "metadata": {},
   "source": [
    "### Teori\n",
    "(Her er alltid $j$ indeks for $x$, mens $k$ er ineks for energier)\n",
    "\n",
    "Vi skal lage en algoritme som tar i et potensialet $V(x)$, hvor vi antatr $V(x) = \\infty, x \\in [-\\infty, 0> \\cup <L, \\infty]$, mens det kan ha en virkårlig form i intervallet $I = [0, L>$. $I$ Diskretiseres opp i $n$ delintervaller, $\\{I_j\\}_{j = 1} ^ {n}$, med lengder på $\\Delta x = L / (n + 1)$. Vi diskretiserer derreter potensialet ved å sette $V_j = V(\\Delta x \\cdot j), \\, j = 1, 2, ... n$ og grensebetingelsene $V_0 = V_{n+1} = \\infty$, slik at vi har en vektor ${\\vec V} = [V_1, V_2, ... V_{n + 1}]$. Den tidsuavhengige Shrödingerligningen i 1D, TUSL, er gitt ved \n",
    "\n",
    "$$ \\hat H \\psi(x) =  \\Big( \\frac{-\\hbar^2}{2m} \\frac{\\partial^2}{\\partial x^2} + \\hat V\\Big) \\psi(x) = E \\psi(x) $$\n",
    "\n",
    "Vi diskretiserer $\\psi(x)$ på samme måten, og lar $\\psi_j = \\psi(\\Delta x \\cdot j),\\, \\psi_0 = \\psi_{n+1} = 0$ som gir vektoren $\\vec \\psi$. Hamiltonoperatoren tilnærmes med matrisen $\\mathbb{H} = [H_{j, k}]$, som er tri-diagonal, slik at\n",
    "\n",
    "$$\n",
    "\\mathbb{H}=\n",
    "\\begin{pmatrix}\n",
    "    H_{1, 1} & H_{1, 2} & 0        & 0          & \\dots      & 0            \\\\[1mm]\n",
    "    H_{2, 1} & H_{2, 2} & H_{2, 3} & 0          & \\dots      & \\vdots       \\\\[1mm]\n",
    "    0        & H_{3, 2} & \\ddots   & \\ddots     & 0          & 0            \\\\[1mm]\n",
    "    0        & 0        & \\ddots   & \\ddots     & H_{n-1, n} & 0            \\\\[1mm]\n",
    "    \\vdots   & \\vdots   & 0        & H_{n, n-1} & H_{n, n}   & H_{n, n+1}   \\\\[1mm]\n",
    "    0        & \\dots    & 0        & 0          & H_{n+1, n} & H_{n+1, n+1} \\\\[1mm]\n",
    " \\end{pmatrix}\n",
    "$$\n",
    "\n",
    "hvor $H_{j, j} = \\frac{\\hbar^2}{m(\\Delta x)^2} + V_j$, og $H_{j, j\\pm 1} = \\frac{-\\hbar^2}{2m(\\Delta x)^2}$. TUSL kan da aproskimeres som et egenverdiproblem,\n",
    "\n",
    "$$ \\mathbb{H} \\vec \\psi_k = E_k \\vec \\psi_k$$\n",
    "\n",
    "Dette gir $n$ forskjellige egenverdier $E_j$, med tilhørende egenvektorer $\\vec \\psi_k = \\psi_{j, k}$, hvor den  som er en aproksimasjon av egenfunksjonen til den . Derreter kan vi tidsutvikle en vilkårilg starttilstand $\\Psi (x, 0)$. Denne starttilstanden aproksimeres som en superposisjonen av egenvektorene, \n",
    "\n",
    "$$\\Psi_j = \\sum_{k = 1}^{n} c_{k} \\psi_{j, k} \\exp(-i E_k t / \\hbar),$$\n",
    "\n",
    "eller med matrisenotasjon $\\psi = [\\psi_{j, k}], \\, \\vec c = [c_1, c_2, ... c_{n+1}]$ blir det $\\vec \\Psi(t) = \\psi (\\vec c \\cdot \\exp(i t / \\hbar \\vec E)) $. $\\vec c$ finnes ved $c_j = \\sum_{j = 1}^{n + 1} \\psi_{j, k} \\Psi_j$, eller $\\vec c = \\vec \\Psi^T \\psi$ "
   ]
  },
  {
   "cell_type": "markdown",
   "metadata": {},
   "source": [
    "**Notasjon**\n",
    "\n",
    "$V(x) =$ `VKont(x)`  \n",
    "$L =$ `L`  \n",
    "$\\Delta x$ = `deltaX`  \n",
    "$n$ = `n`  \n",
    "$\\vec V$ = `V`  \n",
    "$\\mathbb{H} = $ `H[j][k]`  \n",
    "$\\psi = $ `psi[j][k]`  \n",
    "$c = $ `c[k]`  \n",
    "$\\Psi(x, 0) = $ `f(x)`  \n",
    "$\\vec \\Psi(t) = $ `Psi[j](t)`  "
   ]
  },
  {
   "cell_type": "markdown",
   "metadata": {},
   "source": [
    "### Dimesjonsløshet\n",
    "\n",
    "Sånn Shcrödingerlingingen står nå, vår man veldig små tall i bergeningene. Dette kan føre til flyttallfeil. VVi innfører derfor de dimesjonsløse størrelsene $ q = x / L $, $ \\epsilon = E / (\\hbar^2 / 2mL^2) $ og $ \\hat \\nu = \\hat V / (\\hbar^2 / 2mL^2) $. Siden\n",
    "\n",
    "$$ \\frac{\\partial^2}{\\partial q^2} \\psi(q) = \\Big( \\frac{\\partial x}{\\partial q} \\frac{\\partial}{\\partial x} \\Big)^2 \\psi(x)= L^2 \\frac{\\partial^2}{\\partial x^2} \\psi(x), $$\n",
    "\n",
    "kan vi ved å multiplisere med $2mL^2 / \\hbar^2 $ på begge sider av Schrödingerligningen skrive den om til\n",
    "\n",
    "$$ \\Big(-\\frac{\\partial^2}{\\partial q^2} + \\hat \\nu \\Big) \\psi = \\epsilon \\psi.$$\n",
    "\n",
    "Dette gjør at de nye elementene i $ \\mathbb{H} $ matrisen blir $ H_{j, j} = 2 / (\\Delta x)^2 + \\hat \\nu$ og $ H_{j, j \\pm 1} = - 1 / (\\Delta x)^2 $"
   ]
  },
  {
   "cell_type": "code",
   "execution_count": null,
   "metadata": {},
   "outputs": [],
   "source": [
    "import matplotlib as mpl\n",
    "import matplotlib.pyplot as plt\n",
    "import scipy.linalg as la\n",
    "import numpy as np\n",
    "from numpy import pi\n",
    "\n",
    "\n",
    "L = 100\n",
    "n = 1000\n",
    "inf = 1e10        # Alle vet at uendelig er ca 10 milliarder\n",
    "deltaq = 1 / (n + 1)\n",
    "\n",
    "\n",
    "def solveTUSL(V, n):\n",
    "    \n",
    "    # Hjj are diagonal values, HOD are of the diagonal\n",
    "    Hjj = 2 / deltaq**2* np.ones(n) + V[1:-1]\n",
    "    HOD= -1 / deltaq**2 * np.ones(n - 1)\n",
    "    return la.eigh_tridiagonal(Hjj, HOD)\n",
    "\n",
    "def plotEigenfunc(phi, V, x, l, epsilonRange=0):\n",
    "    \n",
    "    font = {'family' : 'serif',\n",
    "        'weight' : 'normal',\n",
    "        'size'   : 25}\n",
    "    plt.rcParams['mathtext.fontset'] = 'dejavuserif'\n",
    "    mpl.rc('font', **font)\n",
    "    \n",
    "    fig, ax1 = plt.subplots(1, 1, figsize=(20, 10))\n",
    "\n",
    "    # Inneholder Line2D elementer som viser legend hvordan linja ser ut\n",
    "    legendElement = [0] * (l + 1)\n",
    "    legendElement[0], = ax1.plot(x, V, color=\"Black\", label=\"$V_0$\")\n",
    "    ax1.set_label(\"E\")\n",
    "    ax1.set_xlabel(\"$q$\")\n",
    "    ax1.set_ylabel(\"$\\epsilon $\")\n",
    "    labels =  [0] * (l + 1)\n",
    "    labels[0] = \"$ \\\\nu (q)$\"\n",
    "    ax2 = ax1.twinx()\n",
    "    ax2.set_ylabel(\"$\\psi$\")\n",
    "\n",
    "    for i in range(l):\n",
    "        legendElement[1 + i],  = ax2.plot(x[1: -1], phi[:, i])\n",
    "        labels[1+ i] = \"$\\epsilon_\" + str(i + 1) + \"$\"\n",
    "    \n",
    "    if not epsilonRange:\n",
    "        ax1.set_ylim(np.min(V[1:-1])*1.2, np.max(V[1:-1])*1.2)\n",
    "    else:\n",
    "         ax1.set_ylim(*epsilonRange)\n",
    "    \n",
    "    ax2.set_ylim(np.min(phi)*1.2, np.max(phi)*1.2)\n",
    "    ax2.legend(legendElement[:][:l + 1], labels[:l + 1], fontsize=20)\n",
    "    \n",
    "    plt.show()"
   ]
  },
  {
   "cell_type": "markdown",
   "metadata": {},
   "source": [
    "## Oppgave 1: Partikkel i boks\n",
    "\n",
    "1) Sjekk om svar stemmer med de analytiske løsningene  \n",
    "2) Sjekk om løsningene er ortonormerte  \n",
    "3) Sjekk om det er et fullstendig sett\n",
    "\n",
    "\n",
    "(Gjør det mulig å tidsuvikle en sartposisjon?)  \n",
    "(Lag finer plott?)"
   ]
  },
  {
   "cell_type": "code",
   "execution_count": null,
   "metadata": {},
   "outputs": [],
   "source": [
    "x_1 = np.linspace(0, L, n + 2)\n",
    "V_1 = np.zeros(n + 2)\n",
    "V_1[0], V_1[-1] = inf, inf\n",
    "\n",
    "def EExact(j):\n",
    "    return ((j + 1) * pi)**2\n",
    "\n",
    "E_1, phi_1 = solveTUSL(V_1, n)\n",
    "l_1 = 4\n",
    "\n",
    "plotEigenfunc(phi_1, V_1, x_1, l_1, (-1, 1))"
   ]
  },
  {
   "cell_type": "markdown",
   "metadata": {},
   "source": [
    "### Energiegenverdier\n",
    "\n",
    "Den analytiske løsningen for energien til en partikkel i boks er \n",
    "\n",
    "$$ \\epsilon_k = \\frac{mL^2}{\\hbar^2} E_k = k^2 \\pi^2. $$\n",
    "\n",
    "Under printes både numeriske og analytisk beregnet dimensjonsløs energi, og man kan tydlig se at de stemmer godt overens."
   ]
  },
  {
   "cell_type": "code",
   "execution_count": null,
   "metadata": {},
   "outputs": [],
   "source": [
    "precision = 6\n",
    "tableWidth = 15\n",
    "\n",
    "print(\"Energies:\")\n",
    "print(\"Numerisk:\".ljust(tableWidth), \"Analytisk:\".ljust(tableWidth), \"Relativ feil:\".ljust(tableWidth))\n",
    "\n",
    "for i in range(l_1):\n",
    "    print((\"{:.{prec}e}\").format(E_1[i], prec=precision).ljust(tableWidth),\\\n",
    "          (\"{:.{prec}e}\").format(EExact(i), prec=precision).ljust(tableWidth),\\\n",
    "          (\"{:.{prec}e}\").format((EExact(i) - E_1[i]) / EExact(i), prec=precision).ljust(tableWidth))"
   ]
  },
  {
   "cell_type": "markdown",
   "metadata": {},
   "source": [
    "### Ortonormalitet\n",
    "\n",
    "Vi kan se her at opp til en feil av størrelsesorden $10^{-10}$ er vektorene $ \\vec \\Psi_k $ ortonormale, altså er $\\vec \\Psi_i \\cdot \\vec \\Psi_j = \\delta_{i, j}$, eller at $\\Psi_{j, k} \\cdot \\Psi_{j, k}^T = \\mathbb{I}$, identitetsmatrisen, som sjekkes i koden under."
   ]
  },
  {
   "cell_type": "code",
   "execution_count": null,
   "metadata": {},
   "outputs": [],
   "source": [
    "np.set_printoptions(precision=2)\n",
    "\n",
    "p = phi_1 @ phi_1.T\n",
    "print(p)\n",
    "\n",
    "# Sjekker om diagonalen er nær 1, og resten nær 0\n",
    "\n",
    "\n",
    "tol = 10e-10\n",
    "i = 0\n",
    "\n",
    "while(i < len(p[0]) and p[i, i] - 1 < tol and np.sum(abs(p[i,:i:])) < tol):\n",
    "    i += 1\n",
    "    \n",
    "print(\"\\nFeil innenfor toleransen: \", i == len(p))"
   ]
  },
  {
   "cell_type": "markdown",
   "metadata": {},
   "source": [
    "## Oppgave 2: Atomer"
   ]
  },
  {
   "cell_type": "code",
   "execution_count": null,
   "metadata": {},
   "outputs": [],
   "source": [
    "V0_2 = -50\n",
    "x_2 = np.linspace(0, L, n + 2)\n",
    "w_2 = 5\n",
    "V_2 = np.ones(1) * inf\n",
    "for i in range(w_2):\n",
    "    V_2 = np.concatenate((V_2, np.zeros(n // (2*w_2 + 1)), V0_2 * np.ones(n // (2*w_2 + 1))))\n",
    "    \n",
    "\n",
    "V_2 = np.concatenate((V_2, np.zeros(n // (2*w_2 + 1) + n % (2*w_2 + 1)), np.ones(1) * inf))\n",
    "\n",
    "E_2, phi_2 = solveTUSL(V_2, n)\n",
    "l_2 = 3\n",
    "plotEigenfunc(phi_2, V_2, x_2, l_2, (V0_2, -V0_2))\n",
    "\n",
    "for i in range(l_2):\n",
    "    print(E_2[i] - V_2[1:-1][i])"
   ]
  },
  {
   "cell_type": "markdown",
   "metadata": {},
   "source": [
    "## Oppgave 3: Molekyler"
   ]
  },
  {
   "cell_type": "code",
   "execution_count": null,
   "metadata": {},
   "outputs": [],
   "source": [
    "V0_3 = -100\n",
    "w_3 = 2\n",
    "b_3 = 3\n",
    "\n",
    "V_3 = np.ones(1) * inf\n",
    "V_3 = np.concatenate((V_3, np.zeros(n * 10 * w_3 // int(22 * w_3 + b_3))))\n",
    "V_3 = np.concatenate((V_3, V0_3 * np.ones(n * w_3 // (22 * w_3 + b_3))))\n",
    "V_3 = np.concatenate((V_3, np.zeros(n * b_3 // (22 * w_3 + b_3))))\n",
    "V_3 = np.concatenate((V_3, V0_3 * np.ones(n * w_3 // (22*w_3 + b_3))))\n",
    "V_3 = np.concatenate((V_3, np.zeros(n*int(10 * w_3) // (22 * w_3 + b_3))))\n",
    "V_3 = np.concatenate((V_3, np.ones(1) * inf))\n",
    "\n",
    "n_3 = len(V_3)\n",
    "x_3 = np.linspace(0, (22 * w_3 + b_3), n_3)\n",
    "E_3, phi_3 = solveTUSL(V_3, n_3-2)\n",
    "l_3 = 3\n",
    "plotEigenfunc(phi_3, V_3, x_3, l_3, (V0_3, -V0_3))\n",
    "\n",
    "for i in range(l_3):\n",
    "    print(E_3[i])"
   ]
  },
  {
   "cell_type": "markdown",
   "metadata": {},
   "source": [
    "## Oppgave 4: Krystaller"
   ]
  },
  {
   "cell_type": "code",
   "execution_count": null,
   "metadata": {},
   "outputs": [],
   "source": []
  },
  {
   "cell_type": "markdown",
   "metadata": {},
   "source": [
    "## Bonus: Tidsutvikling"
   ]
  },
  {
   "cell_type": "code",
   "execution_count": null,
   "metadata": {},
   "outputs": [],
   "source": []
  },
  {
   "cell_type": "markdown",
   "metadata": {},
   "source": [
    "## Lekestua"
   ]
  },
  {
   "cell_type": "code",
   "execution_count": null,
   "metadata": {},
   "outputs": [],
   "source": [
    "def VExact(x):\n",
    "    return 1 / (x + 0.5)\n",
    "\n",
    "x = np.linspace(0, 1, n + 2)\n",
    "VL = VExact(x)\n",
    "V0L = -500\n",
    "VL = np.concatenate(([inf], np.ones(n // 4)*V0L, np.zeros(n - n // 4), [inf]))\n",
    "\n",
    "EL, phiL = solveTUSL(VL, n)\n",
    "\n",
    "l = 4\n",
    "plotEigenfunc(phiL, VL, x, l, (V0L, -V0L))\n",
    "for i in range(l):\n",
    "    print(EL[i] - VL[1:-1][i])"
   ]
  }
 ],
 "metadata": {
  "kernelspec": {
   "display_name": "Python 3",
   "language": "python",
   "name": "python3"
  },
  "language_info": {
   "codemirror_mode": {
    "name": "ipython",
    "version": 3
   },
   "file_extension": ".py",
   "mimetype": "text/x-python",
   "name": "python",
   "nbconvert_exporter": "python",
   "pygments_lexer": "ipython3",
   "version": "3.6.7"
  }
 },
 "nbformat": 4,
 "nbformat_minor": 2
}
